{
 "cells": [
  {
   "cell_type": "code",
   "execution_count": 6,
   "id": "e7560676",
   "metadata": {},
   "outputs": [],
   "source": [
    "import sys\n",
    "\n",
    "from pyspark.sql import SparkSession\n",
    "from pyspark.sql.functions import explode, split, window, sum, avg, col, to_timestamp, expr\n",
    "from pyspark.sql.types import StructType, TimestampType\n",
    "from pyspark.sql.streaming import DataStreamReader\n"
   ]
  },
  {
   "cell_type": "code",
   "execution_count": 3,
   "id": "cb101758",
   "metadata": {
    "scrolled": true
   },
   "outputs": [
    {
     "name": "stderr",
     "output_type": "stream",
     "text": [
      "21/11/28 15:58:24 WARN ResolveWriteToStream: Temporary checkpoint location created which is deleted normally when the query didn't fail: /tmp/temporary-c7733ce3-3ddb-413a-b20c-e491c46debcb. If it's required to delete it under any circumstances, please set spark.sql.streaming.forceDeleteTempCheckpointLocation to true. Important to know deleting temp checkpoint folder is best effort.\n",
      "21/11/28 15:58:24 WARN ResolveWriteToStream: spark.sql.adaptive.enabled is not supported in streaming DataFrames/Datasets and will be disabled.\n"
     ]
    },
    {
     "name": "stdout",
     "output_type": "stream",
     "text": [
      "-------------------------------------------\n",
      "Batch: 0\n",
      "-------------------------------------------\n",
      "+----+----------+---------+--------+--------+----+\n",
      "|side|product_id|last_size|best_bid|best_ask|time|\n",
      "+----+----------+---------+--------+--------+----+\n",
      "+----+----------+---------+--------+--------+----+\n",
      "\n",
      "-------------------------------------------\n",
      "Batch: 1\n",
      "-------------------------------------------\n",
      "+----+----------+----------+--------+--------+-----------------------+\n",
      "|side|product_id|last_size |best_bid|best_ask|time                   |\n",
      "+----+----------+----------+--------+--------+-----------------------+\n",
      "|buy |ETH-BTC   |0.24504561|0.07505 |0.07509 |2021-11-28 15:58:26.027|\n",
      "|buy |ETH-USD   |0.0175555 |4081.44 |4081.46 |2021-11-28 15:58:26.622|\n",
      "|buy |ETH-USD   |0.02166157|4081.44 |4081.47 |2021-11-28 15:58:26.693|\n",
      "|buy |ETH-USD   |0.02522314|4081.44 |4081.47 |2021-11-28 15:58:26.693|\n",
      "+----+----------+----------+--------+--------+-----------------------+\n",
      "\n",
      "-------------------------------------------\n",
      "Batch: 2\n",
      "-------------------------------------------\n",
      "+----+----------+----------+--------+--------+-----------------------+\n",
      "|side|product_id|last_size |best_bid|best_ask|time                   |\n",
      "+----+----------+----------+--------+--------+-----------------------+\n",
      "|sell|ETH-USD   |4.2707023 |4081.44 |4081.46 |2021-11-28 15:58:27.058|\n",
      "|sell|ETH-USD   |0.25705206|4081.44 |4081.46 |2021-11-28 15:58:27.058|\n",
      "|sell|ETH-USD   |0.01598945|4080.92 |4081.46 |2021-11-28 15:58:27.058|\n",
      "|sell|ETH-USD   |1.22293787|4080.62 |4080.84 |2021-11-28 15:58:27.272|\n",
      "+----+----------+----------+--------+--------+-----------------------+\n",
      "\n",
      "-------------------------------------------\n",
      "Batch: 3\n",
      "-------------------------------------------\n",
      "+----+----------+----------+--------+--------+-----------------------+\n",
      "|side|product_id|last_size |best_bid|best_ask|time                   |\n",
      "+----+----------+----------+--------+--------+-----------------------+\n",
      "|sell|ETH-USD   |0.00799594|4080.5  |4080.83 |2021-11-28 15:58:27.411|\n",
      "|sell|ETH-USD   |2.5       |4080.31 |4080.83 |2021-11-28 15:58:27.411|\n",
      "+----+----------+----------+--------+--------+-----------------------+\n",
      "\n",
      "-------------------------------------------\n",
      "Batch: 4\n",
      "-------------------------------------------\n",
      "+----+----------+----------+--------+--------+-----------------------+\n",
      "|side|product_id|last_size |best_bid|best_ask|time                   |\n",
      "+----+----------+----------+--------+--------+-----------------------+\n",
      "|buy |ETH-USD   |0.02811645|4080.21 |4080.5  |2021-11-28 15:58:27.706|\n",
      "|sell|ETH-USD   |0.03671373|4080.22 |4080.5  |2021-11-28 15:58:27.733|\n",
      "+----+----------+----------+--------+--------+-----------------------+\n",
      "\n",
      "-------------------------------------------\n",
      "Batch: 5\n",
      "-------------------------------------------\n",
      "+----+----------+----------+--------+--------+-----------------------+\n",
      "|side|product_id|last_size |best_bid|best_ask|time                   |\n",
      "+----+----------+----------+--------+--------+-----------------------+\n",
      "|sell|ETH-USD   |0.00799717|4080.01 |4080.41 |2021-11-28 15:58:28.625|\n",
      "|sell|ETH-USD   |2.3084E-4 |4080.01 |4080.41 |2021-11-28 15:58:28.625|\n",
      "+----+----------+----------+--------+--------+-----------------------+\n",
      "\n",
      "-------------------------------------------\n",
      "Batch: 6\n",
      "-------------------------------------------\n",
      "+----+----------+----------+--------+--------+-----------------------+\n",
      "|side|product_id|last_size |best_bid|best_ask|time                   |\n",
      "+----+----------+----------+--------+--------+-----------------------+\n",
      "|buy |ETH-USD   |0.00171728|4080.04 |4080.4  |2021-11-28 15:58:28.802|\n",
      "|buy |ETH-USD   |0.61282884|4080.04 |4080.4  |2021-11-28 15:58:28.809|\n",
      "|buy |ETH-USD   |0.16753485|4080.04 |4080.4  |2021-11-28 15:58:28.809|\n",
      "+----+----------+----------+--------+--------+-----------------------+\n",
      "\n",
      "-------------------------------------------\n",
      "Batch: 7\n",
      "-------------------------------------------\n",
      "+----+----------+---------+--------+--------+-----------------------+\n",
      "|side|product_id|last_size|best_bid|best_ask|time                   |\n",
      "+----+----------+---------+--------+--------+-----------------------+\n",
      "|sell|ETH-BTC   |0.02     |0.07506 |0.07509 |2021-11-28 15:58:28.974|\n",
      "+----+----------+---------+--------+--------+-----------------------+\n",
      "\n",
      "-------------------------------------------\n",
      "Batch: 8\n",
      "-------------------------------------------\n",
      "+----+----------+---------+--------+--------+-----------------------+\n",
      "|side|product_id|last_size|best_bid|best_ask|time                   |\n",
      "+----+----------+---------+--------+--------+-----------------------+\n",
      "|sell|ETH-USD   |0.0073457|4080.0  |4080.18 |2021-11-28 15:58:30.805|\n",
      "+----+----------+---------+--------+--------+-----------------------+\n",
      "\n",
      "-------------------------------------------\n",
      "Batch: 9\n",
      "-------------------------------------------\n",
      "+----+----------+----------+--------+--------+-----------------------+\n",
      "|side|product_id|last_size |best_bid|best_ask|time                   |\n",
      "+----+----------+----------+--------+--------+-----------------------+\n",
      "|buy |ETH-USD   |0.00110452|4080.0  |4080.37 |2021-11-28 15:58:31.039|\n",
      "+----+----------+----------+--------+--------+-----------------------+\n",
      "\n",
      "-------------------------------------------\n",
      "Batch: 10\n",
      "-------------------------------------------\n",
      "+----+----------+----------+--------+--------+-----------------------+\n",
      "|side|product_id|last_size |best_bid|best_ask|time                   |\n",
      "+----+----------+----------+--------+--------+-----------------------+\n",
      "|buy |ETH-USD   |0.01094406|4080.0  |4080.37 |2021-11-28 15:58:31.07 |\n",
      "|buy |ETH-USD   |0.02716849|4080.0  |4080.37 |2021-11-28 15:58:31.156|\n",
      "|buy |ETH-USD   |0.02085707|4080.0  |4080.37 |2021-11-28 15:58:31.156|\n",
      "+----+----------+----------+--------+--------+-----------------------+\n",
      "\n",
      "-------------------------------------------\n",
      "Batch: 11\n",
      "-------------------------------------------\n",
      "+----+----------+----------+--------+--------+-----------------------+\n",
      "|side|product_id|last_size |best_bid|best_ask|time                   |\n",
      "+----+----------+----------+--------+--------+-----------------------+\n",
      "|sell|ETH-USD   |0.32207932|4080.0  |4080.36 |2021-11-28 15:58:31.347|\n",
      "+----+----------+----------+--------+--------+-----------------------+\n",
      "\n",
      "-------------------------------------------\n",
      "Batch: 12\n",
      "-------------------------------------------\n",
      "+----+----------+----------+--------+--------+-----------------------+\n",
      "|side|product_id|last_size |best_bid|best_ask|time                   |\n",
      "+----+----------+----------+--------+--------+-----------------------+\n",
      "|sell|ETH-USD   |0.01943853|4080.0  |4080.21 |2021-11-28 15:58:32.557|\n",
      "|sell|ETH-USD   |0.6209672 |4079.69 |4080.21 |2021-11-28 15:58:32.562|\n",
      "|sell|ETH-USD   |0.03319265|4080.0  |4080.21 |2021-11-28 15:58:32.557|\n",
      "|sell|ETH-USD   |0.025     |4080.0  |4080.21 |2021-11-28 15:58:32.557|\n",
      "|sell|ETH-USD   |0.3790328 |4080.0  |4080.21 |2021-11-28 15:58:32.557|\n",
      "+----+----------+----------+--------+--------+-----------------------+\n",
      "\n",
      "-------------------------------------------\n",
      "Batch: 13\n",
      "-------------------------------------------\n",
      "+----+----------+----------+--------+--------+-----------------------+\n",
      "|side|product_id|last_size |best_bid|best_ask|time                   |\n",
      "+----+----------+----------+--------+--------+-----------------------+\n",
      "|sell|ETH-USD   |0.03260233|4079.3  |4079.67 |2021-11-28 15:58:32.775|\n",
      "+----+----------+----------+--------+--------+-----------------------+\n",
      "\n",
      "-------------------------------------------\n",
      "Batch: 14\n",
      "-------------------------------------------\n",
      "+----+----------+----------+--------+--------+-----------------------+\n",
      "|side|product_id|last_size |best_bid|best_ask|time                   |\n",
      "+----+----------+----------+--------+--------+-----------------------+\n",
      "|buy |ETH-USD   |0.03921707|4079.22 |4079.61 |2021-11-28 15:58:33.452|\n",
      "|buy |ETH-USD   |0.03921707|4079.22 |4080.01 |2021-11-28 15:58:33.452|\n",
      "+----+----------+----------+--------+--------+-----------------------+\n",
      "\n",
      "-------------------------------------------\n",
      "Batch: 15\n",
      "-------------------------------------------\n",
      "+----+----------+----------+--------+--------+-----------------------+\n",
      "|side|product_id|last_size |best_bid|best_ask|time                   |\n",
      "+----+----------+----------+--------+--------+-----------------------+\n",
      "|buy |ETH-USD   |0.09643337|4079.22 |4080.03 |2021-11-28 15:58:33.452|\n",
      "|buy |ETH-USD   |0.14023017|4079.22 |4080.09 |2021-11-28 15:58:33.452|\n",
      "|buy |ETH-USD   |0.29740717|4079.22 |4080.09 |2021-11-28 15:58:33.452|\n",
      "+----+----------+----------+--------+--------+-----------------------+\n",
      "\n",
      "-------------------------------------------\n",
      "Batch: 16\n",
      "-------------------------------------------\n",
      "+----+----------+---------+--------+--------+-----------------------+\n",
      "|side|product_id|last_size|best_bid|best_ask|time                   |\n",
      "+----+----------+---------+--------+--------+-----------------------+\n",
      "|sell|ETH-USD   |0.64728  |4079.26 |4079.54 |2021-11-28 15:58:34.201|\n",
      "+----+----------+---------+--------+--------+-----------------------+\n",
      "\n",
      "-------------------------------------------\n",
      "Batch: 17\n",
      "-------------------------------------------\n",
      "+----+----------+---------+--------+--------+----------------------+\n",
      "|side|product_id|last_size|best_bid|best_ask|time                  |\n",
      "+----+----------+---------+--------+--------+----------------------+\n",
      "|buy |ETH-USD   |6.248E-4 |4079.14 |4079.4  |2021-11-28 15:58:34.32|\n",
      "+----+----------+---------+--------+--------+----------------------+\n",
      "\n",
      "-------------------------------------------\n",
      "Batch: 18\n",
      "-------------------------------------------\n",
      "+----+----------+----------+--------+--------+---------------------+\n",
      "|side|product_id|last_size |best_bid|best_ask|time                 |\n",
      "+----+----------+----------+--------+--------+---------------------+\n",
      "|buy |ETH-USD   |0.03516439|4079.0  |4079.39 |2021-11-28 15:58:34.5|\n",
      "+----+----------+----------+--------+--------+---------------------+\n",
      "\n",
      "-------------------------------------------\n",
      "Batch: 19\n",
      "-------------------------------------------\n",
      "+----+----------+----------+--------+--------+-----------------------+\n",
      "|side|product_id|last_size |best_bid|best_ask|time                   |\n",
      "+----+----------+----------+--------+--------+-----------------------+\n",
      "|buy |ETH-USD   |0.01405085|4079.04 |4079.52 |2021-11-28 15:58:34.797|\n",
      "|sell|ETH-USD   |0.00485394|4079.04 |4079.51 |2021-11-28 15:58:34.84 |\n",
      "+----+----------+----------+--------+--------+-----------------------+\n",
      "\n",
      "root\n",
      " |-- type: string (nullable = false)\n",
      " |-- trade_id: long (nullable = false)\n",
      " |-- sequence: long (nullable = false)\n",
      " |-- time: timestamp (nullable = false)\n",
      " |-- product_id: string (nullable = false)\n",
      " |-- price: double (nullable = false)\n",
      " |-- side: string (nullable = false)\n",
      " |-- last_size: double (nullable = false)\n",
      " |-- best_bid: double (nullable = false)\n",
      " |-- best_ask: double (nullable = false)\n",
      "\n"
     ]
    }
   ],
   "source": [
    "from pyspark.sql import SparkSession\n",
    "\n",
    "spark = SparkSession.builder.config(\"spark.sql.streaming.schemaInference\", True).getOrCreate()\n",
    "\n",
    "stream = spark.\\\n",
    "    readStream.\\\n",
    "    format(\"ws\").\\\n",
    "    option(\"schema\", \"ticker\").\\\n",
    "    load() # we need to pass `option(\"schema\", \"ticker\")` to get correct channel subscribed\n",
    "\n",
    "query = stream.select(\"side\", \"product_id\", \"last_size\", \"best_bid\", \"best_ask\", \"time\").\\\n",
    "    writeStream.\\\n",
    "    format(\"console\").\\\n",
    "    outputMode(\"append\").\\\n",
    "    option(\"truncate\", \"false\").\\\n",
    "    start()\n",
    "\n",
    "query.awaitTermination(10) # Let's wait for 10 seconds.\n",
    "query.stop() # Let's stop the query\n",
    "stream.printSchema()\n",
    "#spark.stop() # And stop the whole session\n"
   ]
  },
  {
   "cell_type": "markdown",
   "id": "ce15a66a",
   "metadata": {},
   "source": [
    "Uruchamiająć `stream.start()` uruchamiamy w osobnym demonie websocket który streamuje wyniki. Jeżeli wystąpi jakiś błąd po stronie front-endu (np. błąd parsowania kolejnej linijki Pythona) fakt ten nie zostanie zgłoszony do sparka i socket pozostanie otwarty! Należy pamiętać, by zamykać stream za każdym razem używająć metody `stop()` (w powyższym przykładzie `query.stop()`). W przypadku utracenia referencji do zapytania, należy zastopować całą sesję również metodą `stop()` (w powyższym przykładzie `spark.stop()`) "
   ]
  },
  {
   "cell_type": "code",
   "execution_count": 4,
   "id": "1334823c",
   "metadata": {
    "scrolled": true
   },
   "outputs": [],
   "source": [
    "# Panic button - press only if you messed up opening new websocket and lost reference to it\n",
    "\n",
    "query.stop()\n",
    "spark.stop()"
   ]
  },
  {
   "cell_type": "markdown",
   "id": "6f1722c7",
   "metadata": {},
   "source": [
    "# Zadanie 1\n",
    "\n",
    "**Analiza strumienia danych CoinBase (3p)**. Napisz zapytanie, które wypisuje średnią wartość wybranego parametru (np. `price`) w przesuwnych oknach czasowych względem czasu transakcji (kolumna `time`), grupując po relacji wymiany (z jakiej waluty na jaką walutę - kolumna `product_id`). "
   ]
  },
  {
   "cell_type": "code",
   "execution_count": 15,
   "id": "5accb79f",
   "metadata": {
    "collapsed": true
   },
   "outputs": [
    {
     "name": "stderr",
     "output_type": "stream",
     "text": [
      "21/11/28 13:57:54 WARN ResolveWriteToStream: Temporary checkpoint location created which is deleted normally when the query didn't fail: /tmp/temporary-45823070-def8-4a1b-a676-bfb5c8cb05d6. If it's required to delete it under any circumstances, please set spark.sql.streaming.forceDeleteTempCheckpointLocation to true. Important to know deleting temp checkpoint folder is best effort.\n",
      "21/11/28 13:57:54 WARN ResolveWriteToStream: spark.sql.adaptive.enabled is not supported in streaming DataFrames/Datasets and will be disabled.\n",
      "21/11/28 13:57:55 WARN WSMicroBatchStreamer: Failed to subscribe to websocket: Attempt to decode value on failed cursor: DownField(channels) \n",
      " message: {\"type\":\"ticker\",\"sequence\":4717200168,\"product_id\":\"ETH-BTC\",\"price\":\"0.07516\",\"open_24h\":\"0.07529\",\"volume_24h\":\"5558.64533590\",\"low_24h\":\"0.0741\",\"high_24h\":\"0.07547\",\"volume_30d\":\"381209.73930978\",\"best_bid\":\"0.07514\",\"best_ask\":\"0.07516\",\"side\":\"buy\",\"time\":\"2021-11-28T13:57:02.125194Z\",\"trade_id\":23821227,\"last_size\":\"0.19649584\"}\n",
      "                                                                                \r"
     ]
    },
    {
     "name": "stdout",
     "output_type": "stream",
     "text": [
      "-------------------------------------------\n",
      "Batch: 0\n",
      "-------------------------------------------\n",
      "+------+----------+----------+\n",
      "|window|product_id|avg(price)|\n",
      "+------+----------+----------+\n",
      "+------+----------+----------+\n",
      "\n"
     ]
    },
    {
     "name": "stderr",
     "output_type": "stream",
     "text": [
      "                                                                                \r"
     ]
    },
    {
     "name": "stdout",
     "output_type": "stream",
     "text": [
      "-------------------------------------------\n",
      "Batch: 1\n",
      "-------------------------------------------\n",
      "+------------------------------------------+----------+------------------+\n",
      "|window                                    |product_id|avg(price)        |\n",
      "+------------------------------------------+----------+------------------+\n",
      "|{2021-11-28 13:40:00, 2021-11-28 14:00:00}|ETH-USD   |4080.5533333333333|\n",
      "|{2021-11-28 13:55:00, 2021-11-28 14:15:00}|ETH-USD   |4080.5533333333333|\n",
      "|{2021-11-28 13:45:00, 2021-11-28 14:05:00}|ETH-USD   |4080.5533333333333|\n",
      "|{2021-11-28 13:50:00, 2021-11-28 14:10:00}|ETH-USD   |4080.5533333333333|\n",
      "+------------------------------------------+----------+------------------+\n",
      "\n"
     ]
    },
    {
     "name": "stderr",
     "output_type": "stream",
     "text": [
      "                                                                                \r"
     ]
    },
    {
     "name": "stdout",
     "output_type": "stream",
     "text": [
      "-------------------------------------------\n",
      "Batch: 2\n",
      "-------------------------------------------\n",
      "+------------------------------------------+----------+-----------------+\n",
      "|window                                    |product_id|avg(price)       |\n",
      "+------------------------------------------+----------+-----------------+\n",
      "|{2021-11-28 13:40:00, 2021-11-28 14:00:00}|ETH-USD   |4080.309285714286|\n",
      "|{2021-11-28 13:55:00, 2021-11-28 14:15:00}|ETH-BTC   |0.07514          |\n",
      "|{2021-11-28 13:55:00, 2021-11-28 14:15:00}|ETH-USD   |4080.309285714286|\n",
      "|{2021-11-28 13:45:00, 2021-11-28 14:05:00}|ETH-BTC   |0.07514          |\n",
      "|{2021-11-28 13:45:00, 2021-11-28 14:05:00}|ETH-USD   |4080.309285714286|\n",
      "|{2021-11-28 13:40:00, 2021-11-28 14:00:00}|ETH-BTC   |0.07514          |\n",
      "|{2021-11-28 13:50:00, 2021-11-28 14:10:00}|ETH-USD   |4080.309285714286|\n",
      "|{2021-11-28 13:50:00, 2021-11-28 14:10:00}|ETH-BTC   |0.07514          |\n",
      "+------------------------------------------+----------+-----------------+\n",
      "\n"
     ]
    },
    {
     "name": "stderr",
     "output_type": "stream",
     "text": [
      "                                                                                \r"
     ]
    },
    {
     "name": "stdout",
     "output_type": "stream",
     "text": [
      "-------------------------------------------\n",
      "Batch: 3\n",
      "-------------------------------------------\n",
      "+------------------------------------------+----------+------------------+\n",
      "|window                                    |product_id|avg(price)        |\n",
      "+------------------------------------------+----------+------------------+\n",
      "|{2021-11-28 13:40:00, 2021-11-28 14:00:00}|ETH-USD   |4080.4952727272725|\n",
      "|{2021-11-28 13:55:00, 2021-11-28 14:15:00}|ETH-BTC   |0.075146          |\n",
      "|{2021-11-28 13:55:00, 2021-11-28 14:15:00}|ETH-USD   |4080.4952727272725|\n",
      "|{2021-11-28 13:45:00, 2021-11-28 14:05:00}|ETH-BTC   |0.075146          |\n",
      "|{2021-11-28 13:45:00, 2021-11-28 14:05:00}|ETH-USD   |4080.4952727272725|\n",
      "|{2021-11-28 13:40:00, 2021-11-28 14:00:00}|ETH-BTC   |0.075146          |\n",
      "|{2021-11-28 13:50:00, 2021-11-28 14:10:00}|ETH-USD   |4080.4952727272725|\n",
      "|{2021-11-28 13:50:00, 2021-11-28 14:10:00}|ETH-BTC   |0.075146          |\n",
      "+------------------------------------------+----------+------------------+\n",
      "\n"
     ]
    }
   ],
   "source": [
    "from pyspark.sql import SparkSession\n",
    "\n",
    "spark = SparkSession.builder.\\\n",
    "    config(\"spark.sql.streaming.schemaInference\", True).\\\n",
    "    config(\"spark.sql.streaming.forceDeleteTempCheckpointLocation\", True).getOrCreate()  \n",
    "\n",
    "stream = spark.readStream.\\\n",
    "    format(\"ws\").\\\n",
    "    option(\"schema\", \"ticker\").\\\n",
    "    load()\n",
    "\n",
    "# your code...\n",
    "\n",
    "avg_price = stream.select(col(\"price\"), col(\"product_id\"), col(\"time\"))\\\n",
    "            .withColumn(\"timestamp\", col(\"time\").cast(TimestampType()))\\\n",
    "            .groupBy(window(\"timestamp\", \"20 minutes\", \"5 minutes\"), \"product_id\")\\\n",
    "            .agg(avg(\"price\"))\\\n",
    "            .writeStream\\\n",
    "            .outputMode(\"complete\")\\\n",
    "            .format(\"console\")\\\n",
    "            .option(\"truncate\", \"false\")\\\n",
    "            .trigger(processingTime=\"10 seconds\")\\\n",
    "            .start()\n"
   ]
  },
  {
   "cell_type": "markdown",
   "id": "6e23ffb9",
   "metadata": {},
   "source": [
    "# Zadanie 2\n",
    "\n",
    "**Watermarking i dane opóźnione (3p).** \n",
    "Zmodyfikuj zapytanie z zadania 1 tak, aby zademonstować mechanizm znaków wodnych (watermarks) i obsługi danych opóźnionych. W konsoli powinno być widać, że aktualizują się odpowiednie wiersze tabeli wynikowej (tryb update), w szczególności aktualizacja wcześniejszych okien czasowych po przybyciu danych opóźnionych. **Do rozwiązania tego zadania proszę dołączyć przykładowy output i jego opis wyjaśniający na konkretnym przykładzie działanie znaku wodnego i danych opóźnionych**. \n",
    "\n",
    "Do ćwiczenia można wykorzystać skrypt w katalogu `/mock` napisany w [Scala-cli](https://scala-cli.virtuslab.org), który posłuży jako kontrolowane źródło danych CoinBase przez Websocket. \n",
    "\n",
    "Skrypt można uruchomić wykorzystując Docker:\n",
    "\n",
    "```\n",
    "make image\n",
    "make run\n",
    "```\n",
    "\n",
    "Spowoduje to utworzenie websocketowego serwera pod adresem `ws://mock:8025`\n",
    "\n",
    "Po uruchomieniu serwera należy wykonać poniższą komórkę, w której zapytanie czyta dane z utworzonego websocketa. Skrypt wysyła przykładowe wiadomości w formacie CoinBase co 10 sekund:\n",
    "\n",
    "- W pierwszej serii wysyłane wiadomości o znacznikach czasowych 0s, 14s, 7s  \n",
    "- W drugiej serii wysyłane są wiadomości o znacznikach czasowych 15s, 8s, 21s  \n",
    "- W trzeciej serii wysyłane są wiadomości o znacznikach czasowych 4s, 17s  \n",
    "\n",
    "Dla tych danych można ustawić okno czasowe na interwał 10 sekund. Skrypt można też zmodyfikować, tak aby wysyłał inne dane. \n"
   ]
  },
  {
   "cell_type": "code",
   "execution_count": null,
   "id": "eb47e97a",
   "metadata": {},
   "outputs": [],
   "source": [
    "from pyspark.sql import SparkSession\n",
    "\n",
    "spark = SparkSession.builder.config(\"spark.sql.streaming.schemaInference\", True).getOrCreate()\n",
    "\n",
    "# Note url option!\n",
    "stream = spark.readStream.\\\n",
    "    format(\"ws\").\\\n",
    "    option(\"schema\", \"ticker\").\\\n",
    "    option(\"url\", \"ws://mock:8025\").load() # we pass explicit url option to subscribe to our mock service\n",
    "\n",
    "# your code here...\n",
    "\n",
    "avg_price = stream.select(col(\"price\"), col(\"product_id\"), col(\"time\"))\\\n",
    "            .withColumn(\"timestamp\", col(\"time\").cast(TimestampType()))\\\n",
    "            .withWatermark(\"timestamp\", \"1 hour\")\\\n",
    "            .groupBy(window(\"timestamp\", \"20 minutes\", \"5 minutes\"), \"product_id\")\\\n",
    "            .agg(avg(\"price\"))\\\n",
    "            .writeStream\\\n",
    "            .outputMode(\"complete\")\\\n",
    "            .format(\"console\")\\\n",
    "            .option(\"truncate\", \"false\")\\\n",
    "            .trigger(processingTime=\"10 seconds\")\\\n",
    "            .start()"
   ]
  },
  {
   "cell_type": "markdown",
   "id": "abb8c0a8",
   "metadata": {},
   "source": [
    "# Zadanie 3\n",
    "\n",
    "**Łączenie strumieni (3p)**. Rozdziel sztucznie dane CoinBase z kanału `ticker` na dwa strumienie (wykorzystując filtrowanie subskrypcji): jeden strumień dla `side=\"sell\"`, drugi dla `side=\"buy\"`. Następnie stwórz zapytanie, które łączy te strumienie i wypisuje transakcje dla danego `product_id`, które występowały po sobie w ciągu 1s."
   ]
  },
  {
   "cell_type": "code",
   "execution_count": 9,
   "id": "90f5151a",
   "metadata": {
    "pycharm": {
     "name": "#%%\n"
    }
   },
   "outputs": [
    {
     "name": "stderr",
     "output_type": "stream",
     "text": [
      "21/11/28 16:02:39 WARN ResolveWriteToStream: Temporary checkpoint location created which is deleted normally when the query didn't fail: /tmp/temporary-95f7021c-36c0-4de2-8be1-2b8af9ef324c. If it's required to delete it under any circumstances, please set spark.sql.streaming.forceDeleteTempCheckpointLocation to true. Important to know deleting temp checkpoint folder is best effort.\n",
      "21/11/28 16:02:39 WARN ResolveWriteToStream: spark.sql.adaptive.enabled is not supported in streaming DataFrames/Datasets and will be disabled.\n",
      "21/11/28 16:02:51 WARN ProcessingTimeExecutor: Current batch is falling behind. The trigger interval is 1000 milliseconds, but spent 11874 milliseconds\n"
     ]
    },
    {
     "name": "stdout",
     "output_type": "stream",
     "text": [
      "-------------------------------------------\n",
      "Batch: 0\n",
      "-------------------------------------------\n",
      "+----+-----+----------+---------+----+-----+----------+---------+\n",
      "|side|price|product_id|timestamp|side|price|product_id|timestamp|\n",
      "+----+-----+----------+---------+----+-----+----------+---------+\n",
      "+----+-----+----------+---------+----+-----+----------+---------+\n",
      "\n"
     ]
    },
    {
     "name": "stderr",
     "output_type": "stream",
     "text": [
      "                                                                                \r"
     ]
    },
    {
     "name": "stdout",
     "output_type": "stream",
     "text": [
      "-------------------------------------------\n",
      "Batch: 1\n",
      "-------------------------------------------\n",
      "+----+-------+----------+-----------------------+----+-------+----------+-----------------------+\n",
      "|side|price  |product_id|timestamp              |side|price  |product_id|timestamp              |\n",
      "+----+-------+----------+-----------------------+----+-------+----------+-----------------------+\n",
      "|sell|4082.86|ETH-USD   |2021-11-28 16:02:43.865|buy |4083.08|ETH-USD   |2021-11-28 16:02:43.406|\n",
      "|sell|4082.79|ETH-USD   |2021-11-28 16:02:43.554|buy |4083.08|ETH-USD   |2021-11-28 16:02:43.406|\n",
      "|sell|4082.86|ETH-USD   |2021-11-28 16:02:43.865|buy |4083.18|ETH-USD   |2021-11-28 16:02:43.688|\n",
      "|sell|4082.79|ETH-USD   |2021-11-28 16:02:43.554|buy |4083.18|ETH-USD   |2021-11-28 16:02:43.688|\n",
      "|sell|4082.86|ETH-USD   |2021-11-28 16:02:43.865|buy |4083.17|ETH-USD   |2021-11-28 16:02:43.754|\n",
      "|sell|4082.79|ETH-USD   |2021-11-28 16:02:43.554|buy |4083.17|ETH-USD   |2021-11-28 16:02:43.754|\n",
      "|sell|4082.21|ETH-USD   |2021-11-28 16:02:46.925|buy |4082.22|ETH-USD   |2021-11-28 16:02:46.019|\n",
      "|sell|4082.21|ETH-USD   |2021-11-28 16:02:46.925|buy |4082.22|ETH-USD   |2021-11-28 16:02:46.591|\n",
      "+----+-------+----------+-----------------------+----+-------+----------+-----------------------+\n",
      "\n"
     ]
    },
    {
     "name": "stderr",
     "output_type": "stream",
     "text": [
      "21/11/28 16:03:00 WARN ProcessingTimeExecutor: Current batch is falling behind. The trigger interval is 1000 milliseconds, but spent 9305 milliseconds\n",
      "21/11/28 16:03:09 WARN ProcessingTimeExecutor: Current batch is falling behind. The trigger interval is 1000 milliseconds, but spent 8615 milliseconds\n"
     ]
    },
    {
     "name": "stdout",
     "output_type": "stream",
     "text": [
      "-------------------------------------------\n",
      "Batch: 2\n",
      "-------------------------------------------\n",
      "+----+-------+----------+-----------------------+----+-------+----------+-----------------------+\n",
      "|side|price  |product_id|timestamp              |side|price  |product_id|timestamp              |\n",
      "+----+-------+----------+-----------------------+----+-------+----------+-----------------------+\n",
      "|sell|4081.56|ETH-USD   |2021-11-28 16:02:54.717|buy |4081.96|ETH-USD   |2021-11-28 16:02:54.269|\n",
      "|sell|4081.56|ETH-USD   |2021-11-28 16:02:54.717|buy |4082.04|ETH-USD   |2021-11-28 16:02:54.717|\n",
      "|sell|4081.8 |ETH-USD   |2021-11-28 16:02:58.05 |buy |4081.81|ETH-USD   |2021-11-28 16:02:58.882|\n",
      "+----+-------+----------+-----------------------+----+-------+----------+-----------------------+\n",
      "\n"
     ]
    },
    {
     "name": "stderr",
     "output_type": "stream",
     "text": [
      "21/11/28 16:03:18 WARN ProcessingTimeExecutor: Current batch is falling behind. The trigger interval is 1000 milliseconds, but spent 8572 milliseconds\n"
     ]
    },
    {
     "name": "stdout",
     "output_type": "stream",
     "text": [
      "-------------------------------------------\n",
      "Batch: 3\n",
      "-------------------------------------------\n",
      "+----+-------+----------+-----------------------+----+-------+----------+-----------------------+\n",
      "|side|price  |product_id|timestamp              |side|price  |product_id|timestamp              |\n",
      "+----+-------+----------+-----------------------+----+-------+----------+-----------------------+\n",
      "|sell|4081.71|ETH-USD   |2021-11-28 16:03:04.683|buy |4081.72|ETH-USD   |2021-11-28 16:03:04.934|\n",
      "|sell|4081.71|ETH-USD   |2021-11-28 16:03:04.683|buy |4081.72|ETH-USD   |2021-11-28 16:03:04.345|\n",
      "|sell|4081.63|ETH-USD   |2021-11-28 16:03:01.118|buy |4081.95|ETH-USD   |2021-11-28 16:03:01.115|\n",
      "|sell|4081.35|ETH-USD   |2021-11-28 16:03:01.697|buy |4081.95|ETH-USD   |2021-11-28 16:03:01.115|\n",
      "|sell|4081.63|ETH-USD   |2021-11-28 16:03:01.118|buy |4081.91|ETH-USD   |2021-11-28 16:03:01.407|\n",
      "|sell|4081.35|ETH-USD   |2021-11-28 16:03:01.697|buy |4081.91|ETH-USD   |2021-11-28 16:03:01.407|\n",
      "+----+-------+----------+-----------------------+----+-------+----------+-----------------------+\n",
      "\n"
     ]
    },
    {
     "name": "stderr",
     "output_type": "stream",
     "text": [
      "21/11/28 16:03:26 WARN ProcessingTimeExecutor: Current batch is falling behind. The trigger interval is 1000 milliseconds, but spent 8271 milliseconds\n"
     ]
    },
    {
     "name": "stdout",
     "output_type": "stream",
     "text": [
      "-------------------------------------------\n",
      "Batch: 4\n",
      "-------------------------------------------\n",
      "+----+-------+----------+-----------------------+----+-------+----------+-----------------------+\n",
      "|side|price  |product_id|timestamp              |side|price  |product_id|timestamp              |\n",
      "+----+-------+----------+-----------------------+----+-------+----------+-----------------------+\n",
      "|sell|4081.76|ETH-USD   |2021-11-28 16:03:10.247|buy |4081.77|ETH-USD   |2021-11-28 16:03:10.481|\n",
      "|sell|4083.2 |ETH-USD   |2021-11-28 16:03:15.322|buy |4083.2 |ETH-USD   |2021-11-28 16:03:15.004|\n",
      "|sell|4083.2 |ETH-USD   |2021-11-28 16:03:15.322|buy |4083.21|ETH-USD   |2021-11-28 16:03:15.308|\n",
      "|sell|4081.73|ETH-USD   |2021-11-28 16:03:13.026|buy |4081.74|ETH-USD   |2021-11-28 16:03:13.722|\n",
      "|sell|4081.73|ETH-USD   |2021-11-28 16:03:13.026|buy |4081.74|ETH-USD   |2021-11-28 16:03:13.731|\n",
      "|sell|4081.73|ETH-USD   |2021-11-28 16:03:13.026|buy |4081.75|ETH-USD   |2021-11-28 16:03:13.731|\n",
      "|sell|4081.73|ETH-USD   |2021-11-28 16:03:13.026|buy |4081.74|ETH-USD   |2021-11-28 16:03:13.694|\n",
      "|sell|4081.73|ETH-USD   |2021-11-28 16:03:13.026|buy |4082.39|ETH-USD   |2021-11-28 16:03:13.78 |\n",
      "+----+-------+----------+-----------------------+----+-------+----------+-----------------------+\n",
      "\n"
     ]
    },
    {
     "name": "stderr",
     "output_type": "stream",
     "text": [
      "21/11/28 16:03:34 WARN ProcessingTimeExecutor: Current batch is falling behind. The trigger interval is 1000 milliseconds, but spent 8494 milliseconds\n"
     ]
    },
    {
     "name": "stdout",
     "output_type": "stream",
     "text": [
      "-------------------------------------------\n",
      "Batch: 5\n",
      "-------------------------------------------\n",
      "+----+-------+----------+-----------------------+----+-------+----------+-----------------------+\n",
      "|side|price  |product_id|timestamp              |side|price  |product_id|timestamp              |\n",
      "+----+-------+----------+-----------------------+----+-------+----------+-----------------------+\n",
      "|sell|4082.96|ETH-USD   |2021-11-28 16:03:18.219|buy |4083.23|ETH-USD   |2021-11-28 16:03:18.442|\n",
      "|sell|4082.64|ETH-USD   |2021-11-28 16:03:18.219|buy |4083.23|ETH-USD   |2021-11-28 16:03:18.442|\n",
      "|sell|4082.93|ETH-USD   |2021-11-28 16:03:18.219|buy |4083.23|ETH-USD   |2021-11-28 16:03:18.442|\n",
      "|sell|4082.62|ETH-USD   |2021-11-28 16:03:18.219|buy |4083.23|ETH-USD   |2021-11-28 16:03:18.442|\n",
      "|sell|4082.82|ETH-USD   |2021-11-28 16:03:18.219|buy |4083.23|ETH-USD   |2021-11-28 16:03:18.442|\n",
      "|sell|4082.65|ETH-USD   |2021-11-28 16:03:18.219|buy |4083.23|ETH-USD   |2021-11-28 16:03:18.442|\n",
      "|sell|4082.96|ETH-USD   |2021-11-28 16:03:18.219|buy |4083.24|ETH-USD   |2021-11-28 16:03:18.442|\n",
      "|sell|4082.64|ETH-USD   |2021-11-28 16:03:18.219|buy |4083.24|ETH-USD   |2021-11-28 16:03:18.442|\n",
      "|sell|4082.93|ETH-USD   |2021-11-28 16:03:18.219|buy |4083.24|ETH-USD   |2021-11-28 16:03:18.442|\n",
      "|sell|4082.62|ETH-USD   |2021-11-28 16:03:18.219|buy |4083.24|ETH-USD   |2021-11-28 16:03:18.442|\n",
      "|sell|4082.82|ETH-USD   |2021-11-28 16:03:18.219|buy |4083.24|ETH-USD   |2021-11-28 16:03:18.442|\n",
      "|sell|4082.65|ETH-USD   |2021-11-28 16:03:18.219|buy |4083.24|ETH-USD   |2021-11-28 16:03:18.442|\n",
      "|sell|4083.69|ETH-USD   |2021-11-28 16:03:20.761|buy |4083.7 |ETH-USD   |2021-11-28 16:03:20.067|\n",
      "|sell|4083.69|ETH-USD   |2021-11-28 16:03:20.761|buy |4083.7 |ETH-USD   |2021-11-28 16:03:20.087|\n",
      "|sell|4083.69|ETH-USD   |2021-11-28 16:03:20.761|buy |4083.7 |ETH-USD   |2021-11-28 16:03:20.099|\n",
      "|sell|4083.69|ETH-USD   |2021-11-28 16:03:20.761|buy |4083.7 |ETH-USD   |2021-11-28 16:03:20.969|\n",
      "|sell|4083.69|ETH-USD   |2021-11-28 16:03:20.761|buy |4083.64|ETH-USD   |2021-11-28 16:03:20.067|\n",
      "|sell|4083.69|ETH-USD   |2021-11-28 16:03:20.761|buy |4083.7 |ETH-USD   |2021-11-28 16:03:20.377|\n",
      "|sell|4083.7 |ETH-USD   |2021-11-28 16:03:21.489|buy |4083.7 |ETH-USD   |2021-11-28 16:03:21.261|\n",
      "|sell|4083.7 |ETH-USD   |2021-11-28 16:03:21.489|buy |4084.39|ETH-USD   |2021-11-28 16:03:21.584|\n",
      "+----+-------+----------+-----------------------+----+-------+----------+-----------------------+\n",
      "only showing top 20 rows\n",
      "\n"
     ]
    },
    {
     "name": "stderr",
     "output_type": "stream",
     "text": [
      "21/11/28 16:03:43 WARN ProcessingTimeExecutor: Current batch is falling behind. The trigger interval is 1000 milliseconds, but spent 8795 milliseconds\n"
     ]
    },
    {
     "name": "stdout",
     "output_type": "stream",
     "text": [
      "-------------------------------------------\n",
      "Batch: 6\n",
      "-------------------------------------------\n",
      "+----+-------+----------+-----------------------+----+-------+----------+-----------------------+\n",
      "|side|price  |product_id|timestamp              |side|price  |product_id|timestamp              |\n",
      "+----+-------+----------+-----------------------+----+-------+----------+-----------------------+\n",
      "|sell|4086.25|ETH-USD   |2021-11-28 16:03:31.518|buy |4086.47|ETH-USD   |2021-11-28 16:03:31.378|\n",
      "|sell|4086.25|ETH-USD   |2021-11-28 16:03:31.518|buy |4086.48|ETH-USD   |2021-11-28 16:03:31.378|\n",
      "|sell|4084.46|ETH-USD   |2021-11-28 16:03:28.277|buy |4084.69|ETH-USD   |2021-11-28 16:03:28.704|\n",
      "|sell|4084.46|ETH-USD   |2021-11-28 16:03:28.308|buy |4084.69|ETH-USD   |2021-11-28 16:03:28.704|\n",
      "|sell|4084.46|ETH-USD   |2021-11-28 16:03:28.277|buy |4084.68|ETH-USD   |2021-11-28 16:03:28.704|\n",
      "|sell|4084.46|ETH-USD   |2021-11-28 16:03:28.308|buy |4084.68|ETH-USD   |2021-11-28 16:03:28.704|\n",
      "+----+-------+----------+-----------------------+----+-------+----------+-----------------------+\n",
      "\n"
     ]
    },
    {
     "name": "stderr",
     "output_type": "stream",
     "text": [
      "21/11/28 16:03:51 WARN ProcessingTimeExecutor: Current batch is falling behind. The trigger interval is 1000 milliseconds, but spent 8104 milliseconds\n"
     ]
    },
    {
     "name": "stdout",
     "output_type": "stream",
     "text": [
      "-------------------------------------------\n",
      "Batch: 7\n",
      "-------------------------------------------\n",
      "+----+-------+----------+-----------------------+----+-------+----------+-----------------------+\n",
      "|side|price  |product_id|timestamp              |side|price  |product_id|timestamp              |\n",
      "+----+-------+----------+-----------------------+----+-------+----------+-----------------------+\n",
      "|sell|4085.9 |ETH-USD   |2021-11-28 16:03:42.787|buy |4086.43|ETH-USD   |2021-11-28 16:03:42.938|\n",
      "|sell|4085.9 |ETH-USD   |2021-11-28 16:03:42.787|buy |4086.04|ETH-USD   |2021-11-28 16:03:42.938|\n",
      "|sell|4085.9 |ETH-USD   |2021-11-28 16:03:42.787|buy |4086.44|ETH-USD   |2021-11-28 16:03:42.938|\n",
      "|sell|4085.9 |ETH-USD   |2021-11-28 16:03:42.787|buy |4086.04|ETH-USD   |2021-11-28 16:03:42.347|\n",
      "|sell|4085.9 |ETH-USD   |2021-11-28 16:03:42.787|buy |4086.05|ETH-USD   |2021-11-28 16:03:42.938|\n",
      "|sell|4085.9 |ETH-USD   |2021-11-28 16:03:42.787|buy |4086.05|ETH-USD   |2021-11-28 16:03:42.347|\n",
      "|sell|4085.9 |ETH-USD   |2021-11-28 16:03:42.787|buy |4086.05|ETH-USD   |2021-11-28 16:03:42.938|\n",
      "|sell|4086.23|ETH-USD   |2021-11-28 16:03:34.15 |buy |4086.55|ETH-USD   |2021-11-28 16:03:34.568|\n",
      "+----+-------+----------+-----------------------+----+-------+----------+-----------------------+\n",
      "\n"
     ]
    },
    {
     "name": "stderr",
     "output_type": "stream",
     "text": [
      "21/11/28 16:03:59 WARN ProcessingTimeExecutor: Current batch is falling behind. The trigger interval is 1000 milliseconds, but spent 8215 milliseconds\n"
     ]
    },
    {
     "name": "stdout",
     "output_type": "stream",
     "text": [
      "-------------------------------------------\n",
      "Batch: 8\n",
      "-------------------------------------------\n",
      "+----+-------+----------+-----------------------+----+-------+----------+-----------------------+\n",
      "|side|price  |product_id|timestamp              |side|price  |product_id|timestamp              |\n",
      "+----+-------+----------+-----------------------+----+-------+----------+-----------------------+\n",
      "|sell|4088.99|ETH-USD   |2021-11-28 16:03:51.57 |buy |4089.0 |ETH-USD   |2021-11-28 16:03:51.638|\n",
      "|sell|4088.99|ETH-USD   |2021-11-28 16:03:51.57 |buy |4089.0 |ETH-USD   |2021-11-28 16:03:51.133|\n",
      "|sell|4088.99|ETH-USD   |2021-11-28 16:03:51.57 |buy |4089.0 |ETH-USD   |2021-11-28 16:03:51.716|\n",
      "|sell|4088.99|ETH-USD   |2021-11-28 16:03:51.57 |buy |4089.0 |ETH-USD   |2021-11-28 16:03:51.739|\n",
      "|sell|4088.99|ETH-USD   |2021-11-28 16:03:50.979|buy |4088.11|ETH-USD   |2021-11-28 16:03:50.386|\n",
      "|sell|4088.99|ETH-USD   |2021-11-28 16:03:50.982|buy |4088.11|ETH-USD   |2021-11-28 16:03:50.386|\n",
      "|sell|4088.99|ETH-USD   |2021-11-28 16:03:50.979|buy |4088.88|ETH-USD   |2021-11-28 16:03:50.404|\n",
      "|sell|4088.99|ETH-USD   |2021-11-28 16:03:50.982|buy |4088.88|ETH-USD   |2021-11-28 16:03:50.404|\n",
      "|sell|4088.99|ETH-USD   |2021-11-28 16:03:50.979|buy |4088.1 |ETH-USD   |2021-11-28 16:03:50.26 |\n",
      "|sell|4088.99|ETH-USD   |2021-11-28 16:03:50.982|buy |4088.1 |ETH-USD   |2021-11-28 16:03:50.26 |\n",
      "|sell|4088.99|ETH-USD   |2021-11-28 16:03:50.979|buy |4088.11|ETH-USD   |2021-11-28 16:03:50.386|\n",
      "|sell|4088.99|ETH-USD   |2021-11-28 16:03:50.982|buy |4088.11|ETH-USD   |2021-11-28 16:03:50.386|\n",
      "|sell|4088.99|ETH-USD   |2021-11-28 16:03:50.979|buy |4088.88|ETH-USD   |2021-11-28 16:03:50.536|\n",
      "|sell|4088.99|ETH-USD   |2021-11-28 16:03:50.982|buy |4088.88|ETH-USD   |2021-11-28 16:03:50.536|\n",
      "|sell|4088.99|ETH-USD   |2021-11-28 16:03:50.979|buy |4088.1 |ETH-USD   |2021-11-28 16:03:50.299|\n",
      "|sell|4088.99|ETH-USD   |2021-11-28 16:03:50.982|buy |4088.1 |ETH-USD   |2021-11-28 16:03:50.299|\n",
      "|sell|4088.99|ETH-USD   |2021-11-28 16:03:50.979|buy |4088.42|ETH-USD   |2021-11-28 16:03:50.404|\n",
      "|sell|4088.99|ETH-USD   |2021-11-28 16:03:50.982|buy |4088.42|ETH-USD   |2021-11-28 16:03:50.404|\n",
      "|sell|4088.99|ETH-USD   |2021-11-28 16:03:50.979|buy |4088.88|ETH-USD   |2021-11-28 16:03:50.546|\n",
      "|sell|4088.99|ETH-USD   |2021-11-28 16:03:50.982|buy |4088.88|ETH-USD   |2021-11-28 16:03:50.546|\n",
      "+----+-------+----------+-----------------------+----+-------+----------+-----------------------+\n",
      "only showing top 20 rows\n",
      "\n"
     ]
    },
    {
     "name": "stderr",
     "output_type": "stream",
     "text": [
      "21/11/28 16:04:07 WARN ProcessingTimeExecutor: Current batch is falling behind. The trigger interval is 1000 milliseconds, but spent 8037 milliseconds\n"
     ]
    },
    {
     "name": "stdout",
     "output_type": "stream",
     "text": [
      "-------------------------------------------\n",
      "Batch: 9\n",
      "-------------------------------------------\n",
      "+----+-------+----------+-----------------------+----+-------+----------+-----------------------+\n",
      "|side|price  |product_id|timestamp              |side|price  |product_id|timestamp              |\n",
      "+----+-------+----------+-----------------------+----+-------+----------+-----------------------+\n",
      "|sell|4091.65|ETH-USD   |2021-11-28 16:03:59.518|buy |4092.23|ETH-USD   |2021-11-28 16:03:59.101|\n",
      "|sell|4091.65|ETH-USD   |2021-11-28 16:03:59.518|buy |4092.24|ETH-USD   |2021-11-28 16:03:59.101|\n",
      "|sell|4091.65|ETH-USD   |2021-11-28 16:03:59.518|buy |4092.23|ETH-USD   |2021-11-28 16:03:59.026|\n",
      "|sell|4088.99|ETH-USD   |2021-11-28 16:03:51.57 |buy |4089.0 |ETH-USD   |2021-11-28 16:03:51.828|\n",
      "|sell|4088.99|ETH-USD   |2021-11-28 16:03:51.57 |buy |4089.0 |ETH-USD   |2021-11-28 16:03:51.828|\n",
      "|sell|4088.99|ETH-USD   |2021-11-28 16:03:51.57 |buy |4089.0 |ETH-USD   |2021-11-28 16:03:51.931|\n",
      "|sell|4088.99|ETH-USD   |2021-11-28 16:03:51.57 |buy |4089.0 |ETH-USD   |2021-11-28 16:03:51.956|\n",
      "+----+-------+----------+-----------------------+----+-------+----------+-----------------------+\n",
      "\n"
     ]
    },
    {
     "name": "stderr",
     "output_type": "stream",
     "text": [
      "21/11/28 16:04:15 WARN ProcessingTimeExecutor: Current batch is falling behind. The trigger interval is 1000 milliseconds, but spent 7782 milliseconds\n"
     ]
    },
    {
     "name": "stdout",
     "output_type": "stream",
     "text": [
      "-------------------------------------------\n",
      "Batch: 10\n",
      "-------------------------------------------\n",
      "+----+-------+----------+-----------------------+----+-------+----------+-----------------------+\n",
      "|side|price  |product_id|timestamp              |side|price  |product_id|timestamp              |\n",
      "+----+-------+----------+-----------------------+----+-------+----------+-----------------------+\n",
      "|sell|4090.95|ETH-USD   |2021-11-28 16:04:01.399|buy |4090.96|ETH-USD   |2021-11-28 16:04:01.064|\n",
      "|sell|4091.66|ETH-USD   |2021-11-28 16:04:00.108|buy |4091.19|ETH-USD   |2021-11-28 16:04:00.573|\n",
      "|sell|4091.37|ETH-USD   |2021-11-28 16:04:00.15 |buy |4091.19|ETH-USD   |2021-11-28 16:04:00.573|\n",
      "|sell|4091.66|ETH-USD   |2021-11-28 16:04:00.108|buy |4090.82|ETH-USD   |2021-11-28 16:04:00.573|\n",
      "|sell|4091.37|ETH-USD   |2021-11-28 16:04:00.15 |buy |4090.82|ETH-USD   |2021-11-28 16:04:00.573|\n",
      "|sell|4091.66|ETH-USD   |2021-11-28 16:04:00.108|buy |4090.83|ETH-USD   |2021-11-28 16:04:00.573|\n",
      "|sell|4091.37|ETH-USD   |2021-11-28 16:04:00.15 |buy |4090.83|ETH-USD   |2021-11-28 16:04:00.573|\n",
      "+----+-------+----------+-----------------------+----+-------+----------+-----------------------+\n",
      "\n"
     ]
    },
    {
     "name": "stderr",
     "output_type": "stream",
     "text": [
      "21/11/28 16:04:23 WARN ProcessingTimeExecutor: Current batch is falling behind. The trigger interval is 1000 milliseconds, but spent 7944 milliseconds\n"
     ]
    },
    {
     "name": "stdout",
     "output_type": "stream",
     "text": [
      "-------------------------------------------\n",
      "Batch: 11\n",
      "-------------------------------------------\n",
      "+----+-------+----------+-----------------------+----+-------+----------+-----------------------+\n",
      "|side|price  |product_id|timestamp              |side|price  |product_id|timestamp              |\n",
      "+----+-------+----------+-----------------------+----+-------+----------+-----------------------+\n",
      "|sell|4090.6 |ETH-USD   |2021-11-28 16:04:10.337|buy |4090.61|ETH-USD   |2021-11-28 16:04:10.087|\n",
      "|sell|4090.67|ETH-USD   |2021-11-28 16:04:10.879|buy |4090.61|ETH-USD   |2021-11-28 16:04:10.087|\n",
      "+----+-------+----------+-----------------------+----+-------+----------+-----------------------+\n",
      "\n"
     ]
    },
    {
     "name": "stderr",
     "output_type": "stream",
     "text": [
      "                                                                                \r"
     ]
    },
    {
     "name": "stdout",
     "output_type": "stream",
     "text": [
      "-------------------------------------------\n",
      "Batch: 12\n",
      "-------------------------------------------\n",
      "+----+-------+----------+-----------------------+----+-------+----------+-----------------------+\n",
      "|side|price  |product_id|timestamp              |side|price  |product_id|timestamp              |\n",
      "+----+-------+----------+-----------------------+----+-------+----------+-----------------------+\n",
      "|sell|4089.07|ETH-USD   |2021-11-28 16:04:17.993|buy |4088.89|ETH-USD   |2021-11-28 16:04:17.231|\n",
      "|sell|4089.07|ETH-USD   |2021-11-28 16:04:17.993|buy |4089.08|ETH-USD   |2021-11-28 16:04:17.742|\n",
      "|sell|0.07519|ETH-BTC   |2021-11-28 16:04:16.498|buy |0.0752 |ETH-BTC   |2021-11-28 16:04:16.739|\n",
      "|sell|4089.48|ETH-USD   |2021-11-28 16:04:16.519|buy |4089.51|ETH-USD   |2021-11-28 16:04:16.192|\n",
      "|sell|4089.5 |ETH-USD   |2021-11-28 16:04:16.411|buy |4089.51|ETH-USD   |2021-11-28 16:04:16.192|\n",
      "|sell|4089.48|ETH-USD   |2021-11-28 16:04:16.521|buy |4089.51|ETH-USD   |2021-11-28 16:04:16.192|\n",
      "|sell|4089.48|ETH-USD   |2021-11-28 16:04:16.498|buy |4089.51|ETH-USD   |2021-11-28 16:04:16.192|\n",
      "|sell|4089.48|ETH-USD   |2021-11-28 16:04:16.525|buy |4089.51|ETH-USD   |2021-11-28 16:04:16.192|\n",
      "|sell|4089.48|ETH-USD   |2021-11-28 16:04:16.531|buy |4089.51|ETH-USD   |2021-11-28 16:04:16.192|\n",
      "+----+-------+----------+-----------------------+----+-------+----------+-----------------------+\n",
      "\n"
     ]
    },
    {
     "name": "stderr",
     "output_type": "stream",
     "text": [
      "21/11/28 16:04:31 WARN ProcessingTimeExecutor: Current batch is falling behind. The trigger interval is 1000 milliseconds, but spent 8268 milliseconds\n",
      "[Stage 41:===============>                                       (57 + 4) / 200]\r"
     ]
    }
   ],
   "source": [
    "from pyspark.sql import SparkSession\n",
    "\n",
    "spark = SparkSession.\\\n",
    "    builder.\\\n",
    "    config(\"spark.sql.streaming.schemaInference\", True).\\\n",
    "    config(\"spark.sql.streaming.forceDeleteTempCheckpointLocation\", True).\\\n",
    "    getOrCreate()  \n",
    "\n",
    "stream = spark.\\\n",
    "    readStream.\\\n",
    "    format(\"ws\").\\\n",
    "    option(\"schema\", \"ticker\").\\\n",
    "    load()\n",
    "\n",
    "# your code...\n",
    "\n",
    "sell = stream.withColumn(\"timestamp\", col(\"time\").cast(TimestampType()))\\\n",
    "        .select(col(\"side\"), col(\"price\"), col(\"product_id\"), col(\"timestamp\"), window(\"timestamp\", \"1 second\", \"1 second\"))\\\n",
    "        .filter(col(\"side\") == \"sell\").withWatermark(\"timestamp\", \"1 second\")\n",
    "\n",
    "buy = stream.withColumn(\"timestamp\", col(\"time\").cast(TimestampType()))\\\n",
    "        .select(col(\"side\"), col(\"price\"), col(\"product_id\"), col(\"timestamp\"), window(\"timestamp\", \"1 second\", \"1 second\"))\\\n",
    "        .filter(col(\"side\") == \"buy\").withWatermark(\"timestamp\", \"1 second\")\n",
    "\n",
    "joined = sell.alias(\"sell\").join(buy.alias(\"buy\"), (col(\"sell.window\") == col(\"buy.window\")) & (col(\"sell.product_id\") == col(\"buy.product_id\")))\\\n",
    "        .withWatermark(\"sell.timestamp\", \"1 second\")\\\n",
    "        .withWatermark(\"buy.timestamp\", \"1 second\")\n",
    "\n",
    "query = joined.select(col(\"sell.side\"), col(\"sell.price\"), col(\"sell.product_id\"), col(\"sell.timestamp\"), col(\"buy.side\"), col(\"buy.price\") , col(\"buy.product_id\"), col(\"buy.timestamp\"))\\\n",
    "        .withWatermark(\"sell.timestamp\", \"1 second\").withWatermark(\"buy.timestamp\", \"1 second\")\\\n",
    "        .writeStream\\\n",
    "        .outputMode(\"append\")\\\n",
    "        .format(\"console\")\\\n",
    "        .option(\"truncate\", \"false\")\\\n",
    "        .trigger(processingTime=\"1 second\")\\\n",
    "        .start()\n"
   ]
  },
  {
   "cell_type": "code",
   "execution_count": null,
   "id": "c99a8bd6",
   "metadata": {},
   "outputs": [],
   "source": []
  }
 ],
 "metadata": {
  "interpreter": {
   "hash": "916dbcbb3f70747c44a77c7bcd40155683ae19c65e1c03b4aa3499c5328201f1"
  },
  "kernelspec": {
   "display_name": "Python 3 (ipykernel)",
   "language": "python",
   "name": "python3"
  },
  "language_info": {
   "codemirror_mode": {
    "name": "ipython",
    "version": 3
   },
   "file_extension": ".py",
   "mimetype": "text/x-python",
   "name": "python",
   "nbconvert_exporter": "python",
   "pygments_lexer": "ipython3",
   "version": "3.9.7"
  }
 },
 "nbformat": 4,
 "nbformat_minor": 5
}
