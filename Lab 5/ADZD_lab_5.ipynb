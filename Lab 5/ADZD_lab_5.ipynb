{
 "cells": [
  {
   "cell_type": "markdown",
   "id": "bda91703",
   "metadata": {},
   "source": [
    "# 1. Wczytać graf Facebooka, krawędzie z pliku musae_facebook_edges.csv, atrybuty page oraz page_type z pliku musae_facebook_target.csv. Policzyć liczbę krawędzi i wierzchołków"
   ]
  },
  {
   "cell_type": "code",
   "execution_count": 14,
   "id": "bfd6da73",
   "metadata": {},
   "outputs": [
    {
     "data": {
      "application/vnd.jupyter.widget-view+json": {
       "model_id": "2b82123b78b346c691b72bd098dfbfbb",
       "version_major": 2,
       "version_minor": 0
      },
      "text/plain": [
       "VBox()"
      ]
     },
     "metadata": {},
     "output_type": "display_data"
    },
    {
     "data": {
      "application/vnd.jupyter.widget-view+json": {
       "model_id": "a211ca9931af40d1ad0ed6a356256948",
       "version_major": 2,
       "version_minor": 0
      },
      "text/plain": [
       "FloatProgress(value=0.0, bar_style='info', description='Progress:', layout=Layout(height='25px', width='50%'),…"
      ]
     },
     "metadata": {},
     "output_type": "display_data"
    },
    {
     "name": "stdout",
     "output_type": "stream",
     "text": [
      "import org.apache.spark.graphx._\n"
     ]
    }
   ],
   "source": [
    "import org.apache.spark.graphx._"
   ]
  },
  {
   "cell_type": "code",
   "execution_count": 2,
   "id": "b84a0674",
   "metadata": {},
   "outputs": [
    {
     "data": {
      "application/vnd.jupyter.widget-view+json": {
       "model_id": "559fc1fba4d449559daf40eff59f891c",
       "version_major": 2,
       "version_minor": 0
      },
      "text/plain": [
       "VBox()"
      ]
     },
     "metadata": {},
     "output_type": "display_data"
    },
    {
     "data": {
      "application/vnd.jupyter.widget-view+json": {
       "model_id": "29878be7dfb14e9faf604006b860ec1d",
       "version_major": 2,
       "version_minor": 0
      },
      "text/plain": [
       "FloatProgress(value=0.0, bar_style='info', description='Progress:', layout=Layout(height='25px', width='50%'),…"
      ]
     },
     "metadata": {},
     "output_type": "display_data"
    },
    {
     "name": "stdout",
     "output_type": "stream",
     "text": [
      "edgesCSV: org.apache.spark.rdd.RDD[String] = s3://aws-emr-resources-072717597374-us-east-1/notebooks/e-BGKHZG10LZYPNDUMELJCR3ILB/musae_facebook_edges.csv MapPartitionsRDD[1] at textFile at <console>:28\n",
      "targetCSV: org.apache.spark.rdd.RDD[String] = s3://aws-emr-resources-072717597374-us-east-1/notebooks/e-BGKHZG10LZYPNDUMELJCR3ILB/musae_facebook_target.csv MapPartitionsRDD[3] at textFile at <console>:28\n"
     ]
    }
   ],
   "source": [
    "val edgesCSV = sc.textFile(\"s3://aws-emr-resources-072717597374-us-east-1/notebooks/e-BGKHZG10LZYPNDUMELJCR3ILB/musae_facebook_edges.csv\")\n",
    "val targetCSV = sc.textFile(\"s3://aws-emr-resources-072717597374-us-east-1/notebooks/e-BGKHZG10LZYPNDUMELJCR3ILB/musae_facebook_target.csv\")"
   ]
  },
  {
   "cell_type": "code",
   "execution_count": 3,
   "id": "a7b32899",
   "metadata": {},
   "outputs": [
    {
     "data": {
      "application/vnd.jupyter.widget-view+json": {
       "model_id": "c32fa57b8be1402fb938d8f1a3b9c130",
       "version_major": 2,
       "version_minor": 0
      },
      "text/plain": [
       "VBox()"
      ]
     },
     "metadata": {},
     "output_type": "display_data"
    },
    {
     "data": {
      "application/vnd.jupyter.widget-view+json": {
       "model_id": "af780a7f83db4e6bb3ce7944b8413099",
       "version_major": 2,
       "version_minor": 0
      },
      "text/plain": [
       "FloatProgress(value=0.0, bar_style='info', description='Progress:', layout=Layout(height='25px', width='50%'),…"
      ]
     },
     "metadata": {},
     "output_type": "display_data"
    },
    {
     "name": "stdout",
     "output_type": "stream",
     "text": [
      "import org.apache.spark.rdd.RDD\n",
      "e: org.apache.spark.rdd.RDD[org.apache.spark.graphx.Edge[Int]] = MapPartitionsRDD[4] at map at <console>:30\n",
      "v: org.apache.spark.rdd.RDD[(org.apache.spark.graphx.VertexId, (Long, String, String))] = MapPartitionsRDD[5] at map at <console>:29\n"
     ]
    }
   ],
   "source": [
    "import org.apache.spark.rdd.RDD\n",
    "\n",
    "val e: RDD[Edge[Int]] = edgesCSV.map(line=>{val split = line.split(\";\")\n",
    "    Edge(split(0).toInt, split(1).toInt, 1)})\n",
    "val v: RDD[(VertexId, (Long, String, String))] = targetCSV.map(line=>{val split = line.split(\";\")\n",
    "    (split(0).toLong, (split(1).toLong, split(2).toString, split(3).toString))})"
   ]
  },
  {
   "cell_type": "code",
   "execution_count": 4,
   "id": "a53f1f39",
   "metadata": {},
   "outputs": [
    {
     "data": {
      "application/vnd.jupyter.widget-view+json": {
       "model_id": "c52829810c6740afaa1bd9212958b784",
       "version_major": 2,
       "version_minor": 0
      },
      "text/plain": [
       "VBox()"
      ]
     },
     "metadata": {},
     "output_type": "display_data"
    },
    {
     "data": {
      "application/vnd.jupyter.widget-view+json": {
       "model_id": "3e1c8d382a7e452ab6748df2b4803ebd",
       "version_major": 2,
       "version_minor": 0
      },
      "text/plain": [
       "FloatProgress(value=0.0, bar_style='info', description='Progress:', layout=Layout(height='25px', width='50%'),…"
      ]
     },
     "metadata": {},
     "output_type": "display_data"
    },
    {
     "name": "stdout",
     "output_type": "stream",
     "text": [
      "graph: org.apache.spark.graphx.Graph[(Long, String, String),Int] = org.apache.spark.graphx.impl.GraphImpl@47507338\n"
     ]
    }
   ],
   "source": [
    "val graph = Graph(v, e)"
   ]
  },
  {
   "cell_type": "code",
   "execution_count": 5,
   "id": "c1fd0247",
   "metadata": {},
   "outputs": [
    {
     "data": {
      "application/vnd.jupyter.widget-view+json": {
       "model_id": "a56f0d430cb54cc6ad534457582a8c2d",
       "version_major": 2,
       "version_minor": 0
      },
      "text/plain": [
       "VBox()"
      ]
     },
     "metadata": {},
     "output_type": "display_data"
    },
    {
     "data": {
      "application/vnd.jupyter.widget-view+json": {
       "model_id": "d0a169eeec2441a5bf559a098887f599",
       "version_major": 2,
       "version_minor": 0
      },
      "text/plain": [
       "FloatProgress(value=0.0, bar_style='info', description='Progress:', layout=Layout(height='25px', width='50%'),…"
      ]
     },
     "metadata": {},
     "output_type": "display_data"
    },
    {
     "name": "stdout",
     "output_type": "stream",
     "text": [
      "res2: Array[org.apache.spark.graphx.Edge[Int]] = Array(Edge(0,18427,1), Edge(1,2812,1), Edge(1,4987,1), Edge(1,5228,1), Edge(1,5307,1), Edge(1,5755,1), Edge(1,6829,1), Edge(1,7136,1), Edge(1,8049,1), Edge(1,8533,1), Edge(1,8894,1), Edge(1,9934,1), Edge(1,10281,1), Edge(1,10379,1), Edge(1,10554,1), Edge(1,11557,1), Edge(1,12305,1), Edge(1,13737,1), Edge(1,14344,1), Edge(1,15026,1), Edge(1,15785,1), Edge(1,16260,1), Edge(1,16590,1), Edge(1,17370,1), Edge(1,17460,1), Edge(1,18304,1), Edge(1,19743,1), Edge(1,20024,1), Edge(1,20135,1), Edge(1,21708,1), Edge(1,21729,1), Edge(1,22171,1), Edge(1,22208,1), Edge(1,22265,1), Edge(1,22405,1), Edge(2,126,1), Edge(2,2629,1), Edge(2,5857,1), Edge(2,6353,1), Edge(2,8495,1), Edge(2,9048,1), Edge(2,11537,1), Edge(2,13205,1), Edge(2,17554,1), Edge(2,17728...\n"
     ]
    }
   ],
   "source": [
    "graph.edges.collect"
   ]
  },
  {
   "cell_type": "code",
   "execution_count": 6,
   "id": "092989c6",
   "metadata": {},
   "outputs": [
    {
     "data": {
      "application/vnd.jupyter.widget-view+json": {
       "model_id": "3f41f7c9954f4f8591f681f507b3b005",
       "version_major": 2,
       "version_minor": 0
      },
      "text/plain": [
       "VBox()"
      ]
     },
     "metadata": {},
     "output_type": "display_data"
    },
    {
     "data": {
      "application/vnd.jupyter.widget-view+json": {
       "model_id": "0d4d1b3c46a64a80a993ed0cd89bc526",
       "version_major": 2,
       "version_minor": 0
      },
      "text/plain": [
       "FloatProgress(value=0.0, bar_style='info', description='Progress:', layout=Layout(height='25px', width='50%'),…"
      ]
     },
     "metadata": {},
     "output_type": "display_data"
    },
    {
     "name": "stdout",
     "output_type": "stream",
     "text": [
      "res3: Array[(org.apache.spark.graphx.VertexId, (Long, String, String))] = Array((15474,(707703419357258,India in Switzerland (Embassy of India, Berne),government)), (9200,(211745678846355,DW - Euromaxx,tvshow)), (20484,(191017970161,The Popcorn Factory,company)), (18624,(244266119255283,Famous,tvshow)), (7608,(142237522483061,HLN News Now,tvshow)), (9166,(110108698921,Austin HSEM,government)), (20904,(147622675410632,Teavana Middle East,company)), (18500,(133612666671985,Werner Kogler,politician)), (11490,(814952568554378,Jandarmeria Română,government)), (19226,(333417953483668,Museo Archeologico Nazionale di Mantova,government)), (13298,(466287346850150,Pyramide,tvshow)), (14882,(237088976355538,Andrew Percy,politician)), (18656,(1548560332084555,Lawrence Springborg MP,politician)), (1...\n"
     ]
    }
   ],
   "source": [
    "graph.vertices.collect"
   ]
  },
  {
   "cell_type": "code",
   "execution_count": 7,
   "id": "625b3098",
   "metadata": {},
   "outputs": [
    {
     "data": {
      "application/vnd.jupyter.widget-view+json": {
       "model_id": "57aa9a05b3264be28258bdad77918a9a",
       "version_major": 2,
       "version_minor": 0
      },
      "text/plain": [
       "VBox()"
      ]
     },
     "metadata": {},
     "output_type": "display_data"
    },
    {
     "data": {
      "application/vnd.jupyter.widget-view+json": {
       "model_id": "dedb263a97bb4d47b84bcb3aaa2232aa",
       "version_major": 2,
       "version_minor": 0
      },
      "text/plain": [
       "FloatProgress(value=0.0, bar_style='info', description='Progress:', layout=Layout(height='25px', width='50%'),…"
      ]
     },
     "metadata": {},
     "output_type": "display_data"
    },
    {
     "name": "stdout",
     "output_type": "stream",
     "text": [
      "res4: Long = 22470\n"
     ]
    }
   ],
   "source": [
    "graph.numVertices"
   ]
  },
  {
   "cell_type": "code",
   "execution_count": 8,
   "id": "e02368f3",
   "metadata": {
    "scrolled": false
   },
   "outputs": [
    {
     "data": {
      "application/vnd.jupyter.widget-view+json": {
       "model_id": "8b78b3eb239b446abfb69c48a4bf9407",
       "version_major": 2,
       "version_minor": 0
      },
      "text/plain": [
       "VBox()"
      ]
     },
     "metadata": {},
     "output_type": "display_data"
    },
    {
     "data": {
      "application/vnd.jupyter.widget-view+json": {
       "model_id": "b5f166d1541b4e2a972cba195da8c4ce",
       "version_major": 2,
       "version_minor": 0
      },
      "text/plain": [
       "FloatProgress(value=0.0, bar_style='info', description='Progress:', layout=Layout(height='25px', width='50%'),…"
      ]
     },
     "metadata": {},
     "output_type": "display_data"
    },
    {
     "name": "stdout",
     "output_type": "stream",
     "text": [
      "res5: Long = 171002\n"
     ]
    }
   ],
   "source": [
    "graph.numEdges"
   ]
  },
  {
   "cell_type": "markdown",
   "id": "b3d0dd73",
   "metadata": {},
   "source": [
    "# 3. Spośród 1000 stron o najwyższym PageRank znaleźć 50 takich (wypisać page_name i page_type), które mają najmniej połączeń oraz 50 o największej liczbie połączeń. Który typ strony był dominujący w każdej z tych kategorii? Narysować wykres zależności PageRank od liczby krawędzi dla wierzchołków (scatter plot) "
   ]
  },
  {
   "cell_type": "code",
   "execution_count": 30,
   "id": "39e5ff1c",
   "metadata": {
    "scrolled": true
   },
   "outputs": [
    {
     "data": {
      "application/vnd.jupyter.widget-view+json": {
       "model_id": "50a18940054b492e85ca3d407d9d5807",
       "version_major": 2,
       "version_minor": 0
      },
      "text/plain": [
       "VBox()"
      ]
     },
     "metadata": {},
     "output_type": "display_data"
    },
    {
     "data": {
      "application/vnd.jupyter.widget-view+json": {
       "model_id": "162bdcecc5cf44e3bc7a02d8424eba74",
       "version_major": 2,
       "version_minor": 0
      },
      "text/plain": [
       "FloatProgress(value=0.0, bar_style='info', description='Progress:', layout=Layout(height='25px', width='50%'),…"
      ]
     },
     "metadata": {},
     "output_type": "display_data"
    },
    {
     "name": "stdout",
     "output_type": "stream",
     "text": [
      "(63811549237,The Obama White House,government)\n",
      "(9229303148,U.S. Department of State: Consular Affairs,government)\n",
      "(101690176567548,Microsoft,company)\n",
      "(178004959035323,City of Los Altos Police Department,government)\n",
      "(105403482831839,The Connecticut National Guard,government)\n",
      "(154329207930803,Federica Mogherini,politician)\n",
      "(198228890287761,NHTSA,government)\n",
      "(741724592531706,Joachim Herrmann,politician)\n",
      "(6172639058,Dr. Hedy Fry,politician)\n",
      "(396922911409,Digicel,company)\n",
      "(1191441824276882,The White House,government)\n",
      "(148424511847835,Israel in the UK,government)\n",
      "(110318209007293,21st Theater Sustainment Command,government)\n",
      "(1522202731410785,Katarina Barley,politician)\n",
      "(188183478204,Royal Navy,government)\n",
      "(116012935085151,Bruce Notley-Smith MP,politician)\n",
      "(492150400807824,Frans Timmermans,politician)\n",
      "(155416747835130,Baltimore District, U.S. Army Corps of Engineers,government)\n",
      "(27486451851,Chobani,company)\n",
      "(94145343128,Jean-Claude Juncker,politician)\n",
      "(11784025953,Disney,company)\n",
      "(78922439964,FEMA Federal Emergency Management Agency,government)\n",
      "(38802554124,U.S. Embassy Ottawa,government)\n",
      "(367067283779,U.S. Department of State: Bureau of Intl Narcotics & Law Enforcement (INL),government)\n",
      "(293136030810246,Sir Peter Bottomley MP,politician)\n",
      "(1176771325755239,Johannes Schraps,politician)\n",
      "(42477353781,Aegean Airlines,company)\n",
      "(6708787004,South Park,tvshow)\n",
      "(118814305853,Switzerland | Schweiz | Suisse | Svizzera,company)\n",
      "(338413811828,Fort Knox Soldier for Life - Transition Assistance Program,government)\n",
      "(10419173702,Maxime Bernier,politician)\n",
      "(30037047899,National Science Foundation (NSF),government)\n",
      "(330061277100619,Dr. Karamba Diaby,politician)\n",
      "(411754008869486,Aécio Neves,politician)\n",
      "(161924887212754,US National Weather Service Burlington VT,government)\n",
      "(174788155866586,U.S. Army School of Music,government)\n",
      "(103826223005171,Sénat,government)\n",
      "(44053938557,U.S. Army,government)\n",
      "(280936771231,West Point - The U.S. Military Academy,government)\n",
      "(775058889244552,Yenda,company)\n",
      "(239761589381744,Rapipago,company)\n",
      "(59306617060,Good Morning America,tvshow)\n",
      "(26847738324,Lisa Raitt,politician)\n",
      "(314391985513,Digicel,company)\n",
      "(185734388185250,Archivo General,government)\n",
      "(112641568862846,La politique étrangère du Canada – Affaires mondiales Canada,government)\n",
      "(176114889652,Kancelaria Premiera,government)\n",
      "(145173538856276,Microsoft,company)\n",
      "(1071460706219923,Son of Zorn,tvshow)\n",
      "(107246392661061,U.S. Army Corps of Engineers, Sacramento District,government)\n",
      "ranks_1: Unit = ()\n"
     ]
    }
   ],
   "source": [
    "val ranks_1 = graph.pageRank(0.0001).vertices.join(v).sortBy(_._2._1, ascending=false).take(50).foreach(x => println(x._2._2))\n",
    "ranks_1"
   ]
  },
  {
   "cell_type": "markdown",
   "id": "6f321b17",
   "metadata": {},
   "source": [
    "Typ dominujący: government"
   ]
  },
  {
   "cell_type": "code",
   "execution_count": 29,
   "id": "9a2dc90e",
   "metadata": {
    "scrolled": false
   },
   "outputs": [
    {
     "data": {
      "application/vnd.jupyter.widget-view+json": {
       "model_id": "8deab72aed2d47f584f23425e100fe6b",
       "version_major": 2,
       "version_minor": 0
      },
      "text/plain": [
       "VBox()"
      ]
     },
     "metadata": {},
     "output_type": "display_data"
    },
    {
     "data": {
      "application/vnd.jupyter.widget-view+json": {
       "model_id": "98234f0711b546ca9c2ea9e49296a23f",
       "version_major": 2,
       "version_minor": 0
      },
      "text/plain": [
       "FloatProgress(value=0.0, bar_style='info', description='Progress:', layout=Layout(height='25px', width='50%'),…"
      ]
     },
     "metadata": {},
     "output_type": "display_data"
    },
    {
     "name": "stdout",
     "output_type": "stream",
     "text": [
      "(288212664522226,Caltrain,company)\n",
      "(207168969380470,KFC,company)\n",
      "(296143973921929,Married At First Sight,tvshow)\n",
      "(551435991651334,Mims Davies,politician)\n",
      "(102598343138768,Lekmer,company)\n",
      "(111358695641558,Club Med,company)\n",
      "(122271421173562,Starbucks Korea,company)\n",
      "(102325620186,Willy Borsus,politician)\n",
      "(491745310888092,Iraqi Air Force - القوة الجوية العراقية,government)\n",
      "(182340975141798,Antel,company)\n",
      "(181692235207011,Telekom Shop,company)\n",
      "(153904534654276,Decathlon Dubai,company)\n",
      "(105044319540032,Yingluck Shinawatra,politician)\n",
      "(301431229924244,El Ezaby Pharmacy,company)\n",
      "(687001264739799,臺北市政府消防局,government)\n",
      "(273030804247,VisitSweden,company)\n",
      "(1683575645232241,nissa,tvshow)\n",
      "(219632971457817,Dario Nardella,politician)\n",
      "(193209204031292,Jack Links NZ,company)\n",
      "(8849676068,John Horgan,politician)\n",
      "(118982801461938,El Fonógrafo,company)\n",
      "(1617224185255652,Jörg Berens,politician)\n",
      "(10139643057,Lay's,company)\n",
      "(345234268906087,Michel Magras,politician)\n",
      "(85989071793,Eric Johnson,politician)\n",
      "(255795907856485,Turismo Tampico Miramar,government)\n",
      "(1408935539376139,Mark Bailey MP - Labor for Miller,politician)\n",
      "(234833343227872,Fom Acessórios de Conforto e Bem-Estar,company)\n",
      "(108079889245048,Co-op Insurance,company)\n",
      "(151836301607237,Lindomar Garçon,politician)\n",
      "(37472752215,Cisco Security,company)\n",
      "(294245294017078,Florian Graf,politician)\n",
      "(570042459687434,REDD's Africa,company)\n",
      "(257629110918049,Eluned Parrott,politician)\n",
      "(382458668465036,Amazon.fr,company)\n",
      "(129244513883622,Community Fire Units - Fire & Rescue NSW,government)\n",
      "(1427204984216317,Gordon Hoffmann, MdL,politician)\n",
      "(619697488041020,國稅局新營分局,government)\n",
      "(241354085245,Pacific Foods,company)\n",
      "(724236747684232,Houzz,company)\n",
      "(137639929606868,Karl Öllinger,politician)\n",
      "(117855458231092,Jersey Couture,tvshow)\n",
      "(179326165451798,Cristina Cifuentes,politician)\n",
      "(1745504162339697,後菜鳥的燦爛時代,tvshow)\n",
      "(1388741348032650,식샤를합시다,tvshow)\n",
      "(203753413033815,NESCAFÉ Dolce Gusto Sverige,company)\n",
      "(179498512231876,The Girl From UNCLE,tvshow)\n",
      "(801284739930405,Canada en Guinée,government)\n",
      "(217889454969668,Land Rover,company)\n",
      "(57144052517,Michigan Senate Democrats,government)\n",
      "ranks_2: Unit = ()\n"
     ]
    }
   ],
   "source": [
    "val ranks_2 = graph.pageRank(0.0001).vertices.join(v).sortBy(_._2._1, ascending=true).take(50).foreach(x => println(x._2._2))\n",
    "ranks_2"
   ]
  },
  {
   "cell_type": "markdown",
   "id": "75cbb80c",
   "metadata": {},
   "source": [
    "Typ dominujący: company"
   ]
  },
  {
   "cell_type": "code",
   "execution_count": null,
   "id": "b5ab508c",
   "metadata": {},
   "outputs": [],
   "source": []
  }
 ],
 "metadata": {
  "kernelspec": {
   "display_name": "Spark",
   "language": "",
   "name": "sparkkernel"
  },
  "language_info": {
   "codemirror_mode": "text/x-scala",
   "mimetype": "text/x-scala",
   "name": "scala",
   "pygments_lexer": "scala"
  }
 },
 "nbformat": 4,
 "nbformat_minor": 5
}
