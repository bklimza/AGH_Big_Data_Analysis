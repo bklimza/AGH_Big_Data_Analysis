{
 "cells": [
  {
   "cell_type": "markdown",
   "metadata": {
    "id": "7gm9aYzTDTTU"
   },
   "source": [
    "# Spark MLlib Exercises\n",
    "\n",
    "\n",
    "http://spark.apache.org/docs/latest/ml-statistics.html"
   ]
  },
  {
   "cell_type": "code",
   "execution_count": 1,
   "metadata": {
    "colab": {
     "base_uri": "https://localhost:8080/"
    },
    "id": "4xHZPeuuqHAg",
    "outputId": "03dfe93d-20a3-4c69-df02-8310cfad52cd"
   },
   "outputs": [
    {
     "name": "stdout",
     "output_type": "stream",
     "text": [
      "Collecting pyspark\n",
      "  Downloading pyspark-3.2.0.tar.gz (281.3 MB)\n",
      "\u001b[K     |████████████████████████████████| 281.3 MB 41 kB/s \n",
      "\u001b[?25hCollecting py4j==0.10.9.2\n",
      "  Downloading py4j-0.10.9.2-py2.py3-none-any.whl (198 kB)\n",
      "\u001b[K     |████████████████████████████████| 198 kB 47.0 MB/s \n",
      "\u001b[?25hBuilding wheels for collected packages: pyspark\n",
      "  Building wheel for pyspark (setup.py) ... \u001b[?25l\u001b[?25hdone\n",
      "  Created wheel for pyspark: filename=pyspark-3.2.0-py2.py3-none-any.whl size=281805912 sha256=a057aea790e3a60cbb5d4672a62378a1a05e70b688f3e67f04f1f782e2bce932\n",
      "  Stored in directory: /root/.cache/pip/wheels/0b/de/d2/9be5d59d7331c6c2a7c1b6d1a4f463ce107332b1ecd4e80718\n",
      "Successfully built pyspark\n",
      "Installing collected packages: py4j, pyspark\n",
      "Successfully installed py4j-0.10.9.2 pyspark-3.2.0\n"
     ]
    }
   ],
   "source": [
    "!pip install pyspark"
   ]
  },
  {
   "cell_type": "code",
   "execution_count": 2,
   "metadata": {
    "id": "YBM19ZBQDTTX"
   },
   "outputs": [],
   "source": [
    "from pyspark.sql import SparkSession\n",
    "from pyspark.conf import SparkConf\n",
    "spark = SparkSession.builder.getOrCreate()"
   ]
  },
  {
   "cell_type": "code",
   "execution_count": 3,
   "metadata": {
    "colab": {
     "base_uri": "https://localhost:8080/",
     "height": 216
    },
    "id": "u1Z_Q8lZDTTZ",
    "outputId": "4c54e82f-6bd9-4694-b2af-ae7d6a425e20",
    "scrolled": true
   },
   "outputs": [
    {
     "data": {
      "text/html": [
       "\n",
       "            <div>\n",
       "                <p><b>SparkSession - in-memory</b></p>\n",
       "                \n",
       "        <div>\n",
       "            <p><b>SparkContext</b></p>\n",
       "\n",
       "            <p><a href=\"http://6d626ca98764:4040\">Spark UI</a></p>\n",
       "\n",
       "            <dl>\n",
       "              <dt>Version</dt>\n",
       "                <dd><code>v3.2.0</code></dd>\n",
       "              <dt>Master</dt>\n",
       "                <dd><code>local[*]</code></dd>\n",
       "              <dt>AppName</dt>\n",
       "                <dd><code>pyspark-shell</code></dd>\n",
       "            </dl>\n",
       "        </div>\n",
       "        \n",
       "            </div>\n",
       "        "
      ],
      "text/plain": [
       "<pyspark.sql.session.SparkSession at 0x7fc5f5185310>"
      ]
     },
     "execution_count": 3,
     "metadata": {},
     "output_type": "execute_result"
    }
   ],
   "source": [
    "spark"
   ]
  },
  {
   "cell_type": "markdown",
   "metadata": {
    "id": "a7GDDu-2DTTa"
   },
   "source": [
    "## 1. Statistics (1p.)\n",
    "\n",
    "Download the following dataset: https://www.kaggle.com/c/titanic/data?select=train.csv"
   ]
  },
  {
   "cell_type": "code",
   "execution_count": null,
   "metadata": {
    "colab": {
     "base_uri": "https://localhost:8080/"
    },
    "id": "rwIzAVYsGkEC",
    "outputId": "06aa1e19-ddef-4821-caaf-1ef9c729b12d"
   },
   "outputs": [
    {
     "name": "stdout",
     "output_type": "stream",
     "text": [
      "+-----------+--------+------+--------------------+------+----+-----+-----+--------+-------+-----------+--------+\n",
      "|PassengerId|Survived|Pclass|                Name|   Sex| Age|SibSp|Parch|  Ticket|   Fare|      Cabin|Embarked|\n",
      "+-----------+--------+------+--------------------+------+----+-----+-----+--------+-------+-----------+--------+\n",
      "|          2|       1|     1|Cumings, Mrs. Joh...|female|38.0|    1|    0|PC 17599|71.2833|        C85|       C|\n",
      "|          4|       1|     1|Futrelle, Mrs. Ja...|female|35.0|    1|    0|  113803|   53.1|       C123|       S|\n",
      "|          7|       0|     1|McCarthy, Mr. Tim...|  male|54.0|    0|    0|   17463|51.8625|        E46|       S|\n",
      "|         11|       1|     3|Sandstrom, Miss. ...|female| 4.0|    1|    1| PP 9549|   16.7|         G6|       S|\n",
      "|         12|       1|     1|Bonnell, Miss. El...|female|58.0|    0|    0|  113783|  26.55|       C103|       S|\n",
      "|         22|       1|     2|Beesley, Mr. Lawr...|  male|34.0|    0|    0|  248698|   13.0|        D56|       S|\n",
      "|         24|       1|     1|Sloper, Mr. Willi...|  male|28.0|    0|    0|  113788|   35.5|         A6|       S|\n",
      "|         28|       0|     1|Fortune, Mr. Char...|  male|19.0|    3|    2|   19950|  263.0|C23 C25 C27|       S|\n",
      "|         53|       1|     1|Harper, Mrs. Henr...|female|49.0|    1|    0|PC 17572|76.7292|        D33|       C|\n",
      "|         55|       0|     1|Ostby, Mr. Engelh...|  male|65.0|    0|    1|  113509|61.9792|        B30|       C|\n",
      "+-----------+--------+------+--------------------+------+----+-----+-----+--------+-------+-----------+--------+\n",
      "only showing top 10 rows\n",
      "\n",
      "[('PassengerId', 'int'), ('Survived', 'int'), ('Pclass', 'int'), ('Name', 'string'), ('Sex', 'string'), ('Age', 'double'), ('SibSp', 'int'), ('Parch', 'int'), ('Ticket', 'string'), ('Fare', 'double'), ('Cabin', 'string'), ('Embarked', 'string')]\n"
     ]
    }
   ],
   "source": [
    "file = \"titanic_train.csv\"\n",
    "titanic_df = spark.read.format(\"csv\").options(inferSchema=\"true\", header=\"true\").load(file)\n",
    "titanic_df = titanic_df.dropna(how='any')\n",
    "titanic_df.show(10)\n",
    "print(titanic_df.dtypes)"
   ]
  },
  {
   "cell_type": "markdown",
   "metadata": {
    "id": "45tDK3AbDTTb"
   },
   "source": [
    "### Exercise 1.A.\n",
    "**TODO:** Calculate descriptive statistics for 'Age' and 'Fare' (see https://spark.apache.org/docs/1.6.1/api/java/org/apache/spark/sql/DataFrame.html#describe(scala.collection.Seq))"
   ]
  },
  {
   "cell_type": "code",
   "execution_count": null,
   "metadata": {
    "colab": {
     "base_uri": "https://localhost:8080/"
    },
    "id": "wH4SqCVgjYzX",
    "outputId": "db7bdcc3-0b70-48ad-c9d5-8234029ddbd9"
   },
   "outputs": [
    {
     "name": "stdout",
     "output_type": "stream",
     "text": [
      "+-------+------------------+-----------------+\n",
      "|summary|               Age|             Fare|\n",
      "+-------+------------------+-----------------+\n",
      "|  count|               183|              183|\n",
      "|   mean|  35.6744262295082|78.68246885245901|\n",
      "| stddev|15.643865966849717|76.34784270040569|\n",
      "|    min|              0.92|              0.0|\n",
      "|    max|              80.0|         512.3292|\n",
      "+-------+------------------+-----------------+\n",
      "\n"
     ]
    }
   ],
   "source": [
    "titanic_df.describe(\"Age\", \"Fare\").show()"
   ]
  },
  {
   "cell_type": "markdown",
   "metadata": {
    "id": "YnmEXLrSDTTd"
   },
   "source": [
    "### Exercise 1.B.\n",
    "\n",
    "**TODO:** Check if 'Age' and 'Fare' have normal distribution (see http://spark.apache.org/docs/latest/api/java/org/apache/spark/ml/stat/KolmogorovSmirnovTest.html)"
   ]
  },
  {
   "cell_type": "code",
   "execution_count": null,
   "metadata": {
    "colab": {
     "base_uri": "https://localhost:8080/"
    },
    "id": "-U2RwXRejak3",
    "outputId": "f52a22ca-e7ed-434d-e242-f900f7607943"
   },
   "outputs": [
    {
     "name": "stdout",
     "output_type": "stream",
     "text": [
      "+--------------------+------------------+\n",
      "|              pValue|         statistic|\n",
      "+--------------------+------------------+\n",
      "|1.943689653671754...|0.9713276975967852|\n",
      "+--------------------+------------------+\n",
      "\n"
     ]
    },
    {
     "name": "stderr",
     "output_type": "stream",
     "text": [
      "/usr/local/lib/python3.7/dist-packages/pyspark/sql/context.py:127: FutureWarning: Deprecated in 3.0.0. Use SparkSession.builder.getOrCreate() instead.\n",
      "  FutureWarning\n"
     ]
    }
   ],
   "source": [
    "from pyspark.ml.stat import KolmogorovSmirnovTest\n",
    "\n",
    "KolmogorovSmirnovTest.test(titanic_df, \"Age\", \"norm\", 0, 1).show()"
   ]
  },
  {
   "cell_type": "code",
   "execution_count": null,
   "metadata": {
    "colab": {
     "base_uri": "https://localhost:8080/"
    },
    "id": "1tmtto0LwtUb",
    "outputId": "f4fae356-e269-469f-e641-f4c17f66e8ee"
   },
   "outputs": [
    {
     "name": "stdout",
     "output_type": "stream",
     "text": [
      "+--------------------+------------------+\n",
      "|              pValue|         statistic|\n",
      "+--------------------+------------------+\n",
      "|8.816725127758218...|0.9890707515997943|\n",
      "+--------------------+------------------+\n",
      "\n"
     ]
    },
    {
     "name": "stderr",
     "output_type": "stream",
     "text": [
      "/usr/local/lib/python3.7/dist-packages/pyspark/sql/context.py:127: FutureWarning: Deprecated in 3.0.0. Use SparkSession.builder.getOrCreate() instead.\n",
      "  FutureWarning\n"
     ]
    }
   ],
   "source": [
    "KolmogorovSmirnovTest.test(titanic_df, \"Fare\", \"norm\", 0, 1).show()"
   ]
  },
  {
   "cell_type": "markdown",
   "metadata": {
    "id": "dLunzbEHwxTr"
   },
   "source": [
    "We can reject the null hypothesis, so for both variables we haven't got a normal distribution."
   ]
  },
  {
   "cell_type": "markdown",
   "metadata": {
    "id": "LABGbwAsNJCa"
   },
   "source": [
    "### Exercise 1.C.\n",
    "\n",
    "**TODO:** Calculate Pearson correlation between the following pairs of features:  \n",
    "* 'Age' and 'Survived'\n",
    "* 'Sex' and 'Survived' *(remember about encoding 'Sex' attributes as 0s and 1s)*\n",
    "\n",
    "Which correlation is stronger?"
   ]
  },
  {
   "cell_type": "code",
   "execution_count": null,
   "metadata": {
    "colab": {
     "base_uri": "https://localhost:8080/"
    },
    "id": "wHUlmM-OjcBi",
    "outputId": "b2c90bee-58ee-43b1-cc42-444580df93c0"
   },
   "outputs": [
    {
     "name": "stdout",
     "output_type": "stream",
     "text": [
      "+----+--------+---+\n",
      "| Age|Survived|Sex|\n",
      "+----+--------+---+\n",
      "|38.0|       1|  0|\n",
      "|35.0|       1|  0|\n",
      "|54.0|       0|  1|\n",
      "| 4.0|       1|  0|\n",
      "|58.0|       1|  0|\n",
      "|34.0|       1|  1|\n",
      "|28.0|       1|  1|\n",
      "|19.0|       0|  1|\n",
      "|49.0|       1|  0|\n",
      "|65.0|       0|  1|\n",
      "|45.0|       0|  1|\n",
      "|29.0|       1|  0|\n",
      "|25.0|       0|  1|\n",
      "|23.0|       1|  0|\n",
      "|46.0|       0|  1|\n",
      "|71.0|       0|  1|\n",
      "|23.0|       1|  1|\n",
      "|21.0|       0|  1|\n",
      "|47.0|       0|  1|\n",
      "|24.0|       0|  1|\n",
      "+----+--------+---+\n",
      "only showing top 20 rows\n",
      "\n"
     ]
    }
   ],
   "source": [
    "from pyspark.sql.functions import col, udf\n",
    "\n",
    "@udf(\"integer\")\n",
    "def encode_sex_to_int(sex):\n",
    "  if sex == \"male\":\n",
    "    return 1\n",
    "  else:\n",
    "    return 0\n",
    "\n",
    "new_titanic_df = (titanic_df.select(\"Age\", \"Survived\", \"Sex\").withColumn(\"Sex\", encode_sex_to_int(col(\"Sex\"))))\n",
    "new_titanic_df.show()"
   ]
  },
  {
   "cell_type": "code",
   "execution_count": null,
   "metadata": {
    "colab": {
     "base_uri": "https://localhost:8080/"
    },
    "id": "E3jwUTD203To",
    "outputId": "45e35a1d-c25b-40e7-e8bc-d4e187abd3f9"
   },
   "outputs": [
    {
     "data": {
      "text/plain": [
       "-0.2540847542030532"
      ]
     },
     "execution_count": 18,
     "metadata": {},
     "output_type": "execute_result"
    }
   ],
   "source": [
    "new_titanic_df.corr(\"Age\", \"Survived\", method=\"pearson\")"
   ]
  },
  {
   "cell_type": "code",
   "execution_count": null,
   "metadata": {
    "colab": {
     "base_uri": "https://localhost:8080/"
    },
    "id": "h5VlJcfiDHHm",
    "outputId": "c87b6cc4-d409-4ca7-b86d-80b8a382717f"
   },
   "outputs": [
    {
     "data": {
      "text/plain": [
       "-0.5324179744538412"
      ]
     },
     "execution_count": 19,
     "metadata": {},
     "output_type": "execute_result"
    }
   ],
   "source": [
    "new_titanic_df.corr(\"Sex\", \"Survived\", method=\"pearson\")"
   ]
  },
  {
   "cell_type": "markdown",
   "metadata": {
    "id": "fV51Ce-dDL85"
   },
   "source": [
    "As we can see, correlation between Sex and Survived features is stronger"
   ]
  },
  {
   "cell_type": "markdown",
   "metadata": {
    "id": "Zq3d-SBVDTTe"
   },
   "source": [
    "## 2. Loading data"
   ]
  },
  {
   "cell_type": "markdown",
   "metadata": {
    "id": "pvoN8rt8DTTe"
   },
   "source": [
    "Doc: http://spark.apache.org/docs/latest/ml-datasource.html "
   ]
  },
  {
   "cell_type": "markdown",
   "metadata": {
    "id": "3SQQe2vGDTTf"
   },
   "source": [
    "Download data from https://github.com/apache/spark/blob/master/data/mllib/sample_libsvm_data.txt and load as DataFrame. "
   ]
  },
  {
   "cell_type": "code",
   "execution_count": null,
   "metadata": {
    "colab": {
     "base_uri": "https://localhost:8080/"
    },
    "id": "FrqDceGODTTf",
    "outputId": "056a74dd-6034-4584-9b2d-144970c3906e"
   },
   "outputs": [
    {
     "name": "stdout",
     "output_type": "stream",
     "text": [
      "+-----+--------------------+\n",
      "|label|            features|\n",
      "+-----+--------------------+\n",
      "|  0.0|(780,[127,128,129...|\n",
      "|  1.0|(780,[158,159,160...|\n",
      "|  1.0|(780,[124,125,126...|\n",
      "|  1.0|(780,[152,153,154...|\n",
      "|  1.0|(780,[151,152,153...|\n",
      "|  0.0|(780,[129,130,131...|\n",
      "|  1.0|(780,[158,159,160...|\n",
      "|  1.0|(780,[99,100,101,...|\n",
      "|  0.0|(780,[154,155,156...|\n",
      "|  0.0|(780,[127,128,129...|\n",
      "+-----+--------------------+\n",
      "only showing top 10 rows\n",
      "\n"
     ]
    },
    {
     "data": {
      "text/plain": [
       "[Row(label=0.0, features=SparseVector(780, {127: 51.0, 128: 159.0, 129: 253.0, 130: 159.0, 131: 50.0, 154: 48.0, 155: 238.0, 156: 252.0, 157: 252.0, 158: 252.0, 159: 237.0, 181: 54.0, 182: 227.0, 183: 253.0, 184: 252.0, 185: 239.0, 186: 233.0, 187: 252.0, 188: 57.0, 189: 6.0, 207: 10.0, 208: 60.0, 209: 224.0, 210: 252.0, 211: 253.0, 212: 252.0, 213: 202.0, 214: 84.0, 215: 252.0, 216: 253.0, 217: 122.0, 235: 163.0, 236: 252.0, 237: 252.0, 238: 252.0, 239: 253.0, 240: 252.0, 241: 252.0, 242: 96.0, 243: 189.0, 244: 253.0, 245: 167.0, 262: 51.0, 263: 238.0, 264: 253.0, 265: 253.0, 266: 190.0, 267: 114.0, 268: 253.0, 269: 228.0, 270: 47.0, 271: 79.0, 272: 255.0, 273: 168.0, 289: 48.0, 290: 238.0, 291: 252.0, 292: 252.0, 293: 179.0, 294: 12.0, 295: 75.0, 296: 121.0, 297: 21.0, 300: 253.0, 301: 243.0, 302: 50.0, 316: 38.0, 317: 165.0, 318: 253.0, 319: 233.0, 320: 208.0, 321: 84.0, 328: 253.0, 329: 252.0, 330: 165.0, 343: 7.0, 344: 178.0, 345: 252.0, 346: 240.0, 347: 71.0, 348: 19.0, 349: 28.0, 356: 253.0, 357: 252.0, 358: 195.0, 371: 57.0, 372: 252.0, 373: 252.0, 374: 63.0, 384: 253.0, 385: 252.0, 386: 195.0, 399: 198.0, 400: 253.0, 401: 190.0, 412: 255.0, 413: 253.0, 414: 196.0, 426: 76.0, 427: 246.0, 428: 252.0, 429: 112.0, 440: 253.0, 441: 252.0, 442: 148.0, 454: 85.0, 455: 252.0, 456: 230.0, 457: 25.0, 466: 7.0, 467: 135.0, 468: 253.0, 469: 186.0, 470: 12.0, 482: 85.0, 483: 252.0, 484: 223.0, 493: 7.0, 494: 131.0, 495: 252.0, 496: 225.0, 497: 71.0, 510: 85.0, 511: 252.0, 512: 145.0, 520: 48.0, 521: 165.0, 522: 252.0, 523: 173.0, 538: 86.0, 539: 253.0, 540: 225.0, 547: 114.0, 548: 238.0, 549: 253.0, 550: 162.0, 566: 85.0, 567: 252.0, 568: 249.0, 569: 146.0, 570: 48.0, 571: 29.0, 572: 85.0, 573: 178.0, 574: 225.0, 575: 253.0, 576: 223.0, 577: 167.0, 578: 56.0, 594: 85.0, 595: 252.0, 596: 252.0, 597: 252.0, 598: 229.0, 599: 215.0, 600: 252.0, 601: 252.0, 602: 252.0, 603: 196.0, 604: 130.0, 622: 28.0, 623: 199.0, 624: 252.0, 625: 252.0, 626: 253.0, 627: 252.0, 628: 252.0, 629: 233.0, 630: 145.0, 651: 25.0, 652: 128.0, 653: 252.0, 654: 253.0, 655: 252.0, 656: 141.0, 657: 37.0}))]"
      ]
     },
     "execution_count": 48,
     "metadata": {},
     "output_type": "execute_result"
    }
   ],
   "source": [
    "file = \"sample_libsvm_data.txt\"\n",
    "\n",
    "df = spark.read.format(\"libsvm\").option(\"numFeatures\", \"780\").load(file)\n",
    "df.show(10)\n",
    "df.take(1)"
   ]
  },
  {
   "cell_type": "code",
   "execution_count": null,
   "metadata": {
    "id": "1l4ZSj7hJ27W"
   },
   "outputs": [],
   "source": []
  },
  {
   "cell_type": "markdown",
   "metadata": {
    "id": "MwEFjUnbDTTg"
   },
   "source": [
    "### Exercise 2.A\n",
    "**TODO:** Load wine data from https://www.csie.ntu.edu.tw/~cjlin/libsvmtools/datasets/multiclass/wine.scale\n",
    "Dataset description: http://archive.ics.uci.edu/ml/datasets/Wine"
   ]
  },
  {
   "cell_type": "code",
   "execution_count": null,
   "metadata": {
    "colab": {
     "base_uri": "https://localhost:8080/"
    },
    "id": "w71w8XBzjeXE",
    "outputId": "b18d3279-dbc4-45e2-afdb-cbc045465f37"
   },
   "outputs": [
    {
     "name": "stdout",
     "output_type": "stream",
     "text": [
      "+-----+--------------------+\n",
      "|label|            features|\n",
      "+-----+--------------------+\n",
      "|  1.0|(13,[0,1,2,3,4,5,...|\n",
      "|  1.0|(13,[0,1,2,3,4,5,...|\n",
      "|  1.0|(13,[0,1,2,3,4,5,...|\n",
      "|  1.0|(13,[0,1,2,3,4,5,...|\n",
      "|  1.0|(13,[0,1,2,3,4,5,...|\n",
      "|  1.0|(13,[0,1,2,3,4,5,...|\n",
      "|  1.0|(13,[0,1,2,3,4,5,...|\n",
      "|  1.0|(13,[0,1,2,3,4,5,...|\n",
      "|  1.0|(13,[0,1,2,3,4,5,...|\n",
      "|  1.0|(13,[0,1,2,3,4,5,...|\n",
      "|  1.0|(13,[0,1,2,3,4,5,...|\n",
      "|  1.0|(13,[0,1,2,3,4,5,...|\n",
      "|  1.0|(13,[0,1,2,3,4,5,...|\n",
      "|  1.0|(13,[0,1,2,3,4,5,...|\n",
      "|  1.0|(13,[0,1,2,3,4,5,...|\n",
      "|  1.0|(13,[0,1,2,3,4,5,...|\n",
      "|  1.0|(13,[0,1,2,3,4,5,...|\n",
      "|  1.0|(13,[0,1,2,3,4,5,...|\n",
      "|  1.0|(13,[0,1,2,3,4,5,...|\n",
      "|  1.0|(13,[0,1,2,3,5,6,...|\n",
      "+-----+--------------------+\n",
      "only showing top 20 rows\n",
      "\n"
     ]
    }
   ],
   "source": [
    "wine_df = spark.read.format(\"libsvm\").load(\"wine.scale\")\n",
    "\n",
    "wine_df.show()"
   ]
  },
  {
   "cell_type": "markdown",
   "metadata": {
    "id": "cJn0NAMtDTTh"
   },
   "source": [
    "## 3. Classification (2p.)"
   ]
  },
  {
   "cell_type": "code",
   "execution_count": null,
   "metadata": {
    "colab": {
     "base_uri": "https://localhost:8080/"
    },
    "id": "5B3svtjNDTTj",
    "outputId": "7a07f7cf-5946-4bbd-ca73-3bf068e60b2a"
   },
   "outputs": [
    {
     "name": "stdout",
     "output_type": "stream",
     "text": [
      "+----+-------+-----+----+----+---+-------+----------+--------------------+-------+-----+----+----+-------+\n",
      "|Wine|Alcohol|Malic| Ash| Acl| Mg|Phenols|Flavanoids|Nonflavanoid_phenols|Proanth|Color| Hue|  OD|Proline|\n",
      "+----+-------+-----+----+----+---+-------+----------+--------------------+-------+-----+----+----+-------+\n",
      "|   1|  14.23| 1.71|2.43|15.6|127|    2.8|      3.06|                0.28|   2.29| 5.64|1.04|3.92|   1065|\n",
      "|   1|   13.2| 1.78|2.14|11.2|100|   2.65|      2.76|                0.26|   1.28| 4.38|1.05| 3.4|   1050|\n",
      "|   1|  13.16| 2.36|2.67|18.6|101|    2.8|      3.24|                 0.3|   2.81| 5.68|1.03|3.17|   1185|\n",
      "|   1|  14.37| 1.95| 2.5|16.8|113|   3.85|      3.49|                0.24|   2.18|  7.8|0.86|3.45|   1480|\n",
      "|   1|  13.24| 2.59|2.87|21.0|118|    2.8|      2.69|                0.39|   1.82| 4.32|1.04|2.93|    735|\n",
      "|   1|   14.2| 1.76|2.45|15.2|112|   3.27|      3.39|                0.34|   1.97| 6.75|1.05|2.85|   1450|\n",
      "|   1|  14.39| 1.87|2.45|14.6| 96|    2.5|      2.52|                 0.3|   1.98| 5.25|1.02|3.58|   1290|\n",
      "|   1|  14.06| 2.15|2.61|17.6|121|    2.6|      2.51|                0.31|   1.25| 5.05|1.06|3.58|   1295|\n",
      "|   1|  14.83| 1.64|2.17|14.0| 97|    2.8|      2.98|                0.29|   1.98|  5.2|1.08|2.85|   1045|\n",
      "|   1|  13.86| 1.35|2.27|16.0| 98|   2.98|      3.15|                0.22|   1.85| 7.22|1.01|3.55|   1045|\n",
      "+----+-------+-----+----+----+---+-------+----------+--------------------+-------+-----+----+----+-------+\n",
      "only showing top 10 rows\n",
      "\n",
      "[('Wine', 'int'), ('Alcohol', 'double'), ('Malic', 'double'), ('Ash', 'double'), ('Acl', 'double'), ('Mg', 'int'), ('Phenols', 'double'), ('Flavanoids', 'double'), ('Nonflavanoid_phenols', 'double'), ('Proanth', 'double'), ('Color', 'double'), ('Hue', 'double'), ('OD', 'double'), ('Proline', 'int')]\n"
     ]
    }
   ],
   "source": [
    "file = \"wine.csv\" # https://gist.githubusercontent.com/tijptjik/9408623/raw/b237fa5848349a14a14e5d4107dc7897c21951f5/wine.csv\n",
    "\n",
    "# Remember about deleting dots from the headers of this csv file!\n",
    "winedf2 = spark.read.format(\"csv\").options(inferSchema=\"true\", header=\"true\").load(file)\n",
    "winedf2.show(10)\n",
    "print(winedf2.dtypes)"
   ]
  },
  {
   "cell_type": "markdown",
   "metadata": {
    "id": "Rjp6BHOadXUs"
   },
   "source": [
    "### Exercise 3.A\n",
    "**TODO:** \n",
    "\n",
    "Remember about deleting dots from the headers of this csv file and splitting data into train and test set\n",
    "\n",
    "\n",
    "1) Create pipeline with VectorAssembler and DecisionTreeClassifier.\n",
    "\n",
    "2) Use the pipeline to make predictions.\n",
    "\n",
    "3) Evaluate predictions using MulticlassClassificationEvaluator.\n",
    "\n",
    "4) Calculate accuracy and test error\n",
    "\n",
    "5) Print the structure of the trained decision tree (hint: use toDebugString attribute)"
   ]
  },
  {
   "cell_type": "code",
   "execution_count": 5,
   "metadata": {
    "colab": {
     "base_uri": "https://localhost:8080/"
    },
    "id": "MTfU0f0cjhV1",
    "outputId": "c95e71d3-7b76-42be-fb3e-b1981a234b63"
   },
   "outputs": [
    {
     "name": "stdout",
     "output_type": "stream",
     "text": [
      "+----+-------+----------+----+----+---+-------+----------+--------------------+-------+---------+----+----+-------+\n",
      "|Wine|Alcohol|Malic_acid| Ash| Acl| Mg|Phenols|Flavanoids|Nonflavanoid_phenols|Proanth|Color_int| Hue|  OD|Proline|\n",
      "+----+-------+----------+----+----+---+-------+----------+--------------------+-------+---------+----+----+-------+\n",
      "|   1|  14.23|      1.71|2.43|15.6|127|    2.8|      3.06|                0.28|   2.29|     5.64|1.04|3.92|   1065|\n",
      "|   1|   13.2|      1.78|2.14|11.2|100|   2.65|      2.76|                0.26|   1.28|     4.38|1.05| 3.4|   1050|\n",
      "|   1|  13.16|      2.36|2.67|18.6|101|    2.8|      3.24|                 0.3|   2.81|     5.68|1.03|3.17|   1185|\n",
      "|   1|  14.37|      1.95| 2.5|16.8|113|   3.85|      3.49|                0.24|   2.18|      7.8|0.86|3.45|   1480|\n",
      "|   1|  13.24|      2.59|2.87|21.0|118|    2.8|      2.69|                0.39|   1.82|     4.32|1.04|2.93|    735|\n",
      "|   1|   14.2|      1.76|2.45|15.2|112|   3.27|      3.39|                0.34|   1.97|     6.75|1.05|2.85|   1450|\n",
      "|   1|  14.39|      1.87|2.45|14.6| 96|    2.5|      2.52|                 0.3|   1.98|     5.25|1.02|3.58|   1290|\n",
      "|   1|  14.06|      2.15|2.61|17.6|121|    2.6|      2.51|                0.31|   1.25|     5.05|1.06|3.58|   1295|\n",
      "|   1|  14.83|      1.64|2.17|14.0| 97|    2.8|      2.98|                0.29|   1.98|      5.2|1.08|2.85|   1045|\n",
      "|   1|  13.86|      1.35|2.27|16.0| 98|   2.98|      3.15|                0.22|   1.85|     7.22|1.01|3.55|   1045|\n",
      "|   1|   14.1|      2.16| 2.3|18.0|105|   2.95|      3.32|                0.22|   2.38|     5.75|1.25|3.17|   1510|\n",
      "|   1|  14.12|      1.48|2.32|16.8| 95|    2.2|      2.43|                0.26|   1.57|      5.0|1.17|2.82|   1280|\n",
      "|   1|  13.75|      1.73|2.41|16.0| 89|    2.6|      2.76|                0.29|   1.81|      5.6|1.15| 2.9|   1320|\n",
      "|   1|  14.75|      1.73|2.39|11.4| 91|    3.1|      3.69|                0.43|   2.81|      5.4|1.25|2.73|   1150|\n",
      "|   1|  14.38|      1.87|2.38|12.0|102|    3.3|      3.64|                0.29|   2.96|      7.5| 1.2| 3.0|   1547|\n",
      "|   1|  13.63|      1.81| 2.7|17.2|112|   2.85|      2.91|                 0.3|   1.46|      7.3|1.28|2.88|   1310|\n",
      "|   1|   14.3|      1.92|2.72|20.0|120|    2.8|      3.14|                0.33|   1.97|      6.2|1.07|2.65|   1280|\n",
      "|   1|  13.83|      1.57|2.62|20.0|115|   2.95|       3.4|                 0.4|   1.72|      6.6|1.13|2.57|   1130|\n",
      "|   1|  14.19|      1.59|2.48|16.5|108|    3.3|      3.93|                0.32|   1.86|      8.7|1.23|2.82|   1680|\n",
      "|   1|  13.64|       3.1|2.56|15.2|116|    2.7|      3.03|                0.17|   1.66|      5.1|0.96|3.36|    845|\n",
      "+----+-------+----------+----+----+---+-------+----------+--------------------+-------+---------+----+----+-------+\n",
      "only showing top 20 rows\n",
      "\n"
     ]
    }
   ],
   "source": [
    "file = \"wine.csv\"\n",
    "wine = spark.read.format(\"csv\").options(inferSchema=\"true\", header=\"true\").load(file).withColumnRenamed(\"Malic.acid\", \"Malic_acid\").withColumnRenamed(\"Nonflavanoid.phenols\", \"Nonflavanoid_phenols\").withColumnRenamed(\"Color.int\", \"Color_int\")\n",
    "\n",
    "wine.show()"
   ]
  },
  {
   "cell_type": "code",
   "execution_count": 16,
   "metadata": {
    "colab": {
     "base_uri": "https://localhost:8080/"
    },
    "id": "lTbhBaeYvd5a",
    "outputId": "2b32cb43-7c32-49f4-8660-a88ae88c94eb"
   },
   "outputs": [
    {
     "name": "stdout",
     "output_type": "stream",
     "text": [
      "DecisionTreeClassificationModel: uid=DecisionTreeClassifier_70673fa310a5, depth=5, numNodes=15, numClasses=4, numFeatures=13\n",
      "  If (feature 6 <= 1.335)\n",
      "   If (feature 9 <= 3.77)\n",
      "    Predict: 2.0\n",
      "   Else (feature 9 > 3.77)\n",
      "    Predict: 3.0\n",
      "  Else (feature 6 > 1.335)\n",
      "   If (feature 12 <= 682.5)\n",
      "    If (feature 9 <= 6.165)\n",
      "     If (feature 1 <= 3.875)\n",
      "      Predict: 2.0\n",
      "     Else (feature 1 > 3.875)\n",
      "      If (feature 0 <= 12.059999999999999)\n",
      "       Predict: 2.0\n",
      "      Else (feature 0 > 12.059999999999999)\n",
      "       Predict: 1.0\n",
      "    Else (feature 9 > 6.165)\n",
      "     Predict: 3.0\n",
      "   Else (feature 12 > 682.5)\n",
      "    If (feature 0 <= 12.364999999999998)\n",
      "     Predict: 2.0\n",
      "    Else (feature 0 > 12.364999999999998)\n",
      "     Predict: 1.0\n",
      "\n",
      "Accuracy: 0.8936170212765957\n"
     ]
    }
   ],
   "source": [
    "from pyspark.ml.evaluation import MulticlassClassificationEvaluator\n",
    "from pyspark.ml.classification import DecisionTreeClassifier\n",
    "from pyspark.ml.feature import VectorAssembler\n",
    "from pyspark.ml import Pipeline\n",
    "\n",
    "def make_pipeline(train, test):\n",
    "    vector_assembler = VectorAssembler(inputCols=train.columns[1:], outputCol=\"features\")\n",
    "    decision_tree_cls = DecisionTreeClassifier(labelCol=\"Wine\", featuresCol=\"features\")\n",
    "    pipeline = Pipeline(stages=[vector_assembler, decision_tree_cls]) \n",
    "    evaluation = MulticlassClassificationEvaluator(labelCol=\"Wine\", predictionCol=\"prediction\", metricName=\"accuracy\")\n",
    "    model = pipeline.fit(train)\n",
    "    predictions = model.transform(test)\n",
    "    accuracy = evaluation.evaluate(predictions)\n",
    "    return model, accuracy\n",
    "\n",
    "wine_train, wine_test = wine.randomSplit([0.7, 0.3], seed=0)\n",
    "model, accuracy = make_pipeline(wine_train, wine_test)\n",
    "\n",
    "tree_model = model.stages[1]\n",
    "print(tree_model.toDebugString)\n",
    "print(\"Accuracy:\", accuracy)"
   ]
  },
  {
   "cell_type": "markdown",
   "metadata": {
    "id": "QF73uyZ5DTTk"
   },
   "source": [
    "### Exercise 3.B\n",
    "**TODO:** \n",
    "\n",
    "1) Extend the pipeline from the previos task with QuantileDiscretizer \n",
    "\n",
    "2) Try using a couple of different numbers of buckets, which cinfiguration gives the best results?\n",
    "\n",
    "3) Can you see any difference in the structure of the decistion tree?"
   ]
  },
  {
   "cell_type": "code",
   "execution_count": 17,
   "metadata": {
    "colab": {
     "base_uri": "https://localhost:8080/"
    },
    "id": "I0Ax7J2kjiQX",
    "outputId": "e0151e3e-04fe-4f59-8803-d9b46f0c6d4f"
   },
   "outputs": [
    {
     "name": "stdout",
     "output_type": "stream",
     "text": [
      "DecisionTreeClassificationModel: uid=DecisionTreeClassifier_159c80388b07, depth=5, numNodes=17, numClasses=4, numFeatures=13\n",
      "  If (feature 6 in {0.0})\n",
      "   If (feature 10 in {0.0})\n",
      "    If (feature 9 in {0.0})\n",
      "     If (feature 0 in {0.0})\n",
      "      If (feature 7 in {0.0})\n",
      "       Predict: 3.0\n",
      "      Else (feature 7 not in {0.0})\n",
      "       Predict: 2.0\n",
      "     Else (feature 0 not in {0.0})\n",
      "      Predict: 3.0\n",
      "    Else (feature 9 not in {0.0})\n",
      "     Predict: 3.0\n",
      "   Else (feature 10 not in {0.0})\n",
      "    Predict: 2.0\n",
      "  Else (feature 6 not in {0.0})\n",
      "   If (feature 12 in {0.0})\n",
      "    Predict: 2.0\n",
      "   Else (feature 12 not in {0.0})\n",
      "    If (feature 0 in {0.0})\n",
      "     If (feature 1 in {0.0})\n",
      "      Predict: 2.0\n",
      "     Else (feature 1 not in {0.0})\n",
      "      Predict: 1.0\n",
      "    Else (feature 0 not in {0.0})\n",
      "     Predict: 1.0\n",
      "\n",
      "Accuracy: 0.9148936170212766\n",
      "DecisionTreeClassificationModel: uid=DecisionTreeClassifier_e609f0ce7b11, depth=5, numNodes=15, numClasses=4, numFeatures=13\n",
      "  If (feature 6 in {0.0})\n",
      "   If (feature 9 in {0.0})\n",
      "    Predict: 2.0\n",
      "   Else (feature 9 not in {0.0})\n",
      "    Predict: 3.0\n",
      "  Else (feature 6 not in {0.0})\n",
      "   If (feature 12 in {0.0,1.0})\n",
      "    If (feature 4 in {0.0,1.0})\n",
      "     Predict: 2.0\n",
      "    Else (feature 4 not in {0.0,1.0})\n",
      "     If (feature 0 in {0.0})\n",
      "      Predict: 2.0\n",
      "     Else (feature 0 not in {0.0})\n",
      "      If (feature 5 in {0.0})\n",
      "       Predict: 3.0\n",
      "      Else (feature 5 not in {0.0})\n",
      "       Predict: 1.0\n",
      "   Else (feature 12 not in {0.0,1.0})\n",
      "    If (feature 0 in {0.0})\n",
      "     Predict: 2.0\n",
      "    Else (feature 0 not in {0.0})\n",
      "     Predict: 1.0\n",
      "\n",
      "Accuracy: 0.9787234042553191\n",
      "DecisionTreeClassificationModel: uid=DecisionTreeClassifier_6816bf36a36d, depth=5, numNodes=15, numClasses=4, numFeatures=13\n",
      "  If (feature 12 in {0.0,1.0,2.0})\n",
      "   If (feature 6 in {0.0})\n",
      "    If (feature 1 in {1.0})\n",
      "     Predict: 2.0\n",
      "    Else (feature 1 not in {1.0})\n",
      "     Predict: 3.0\n",
      "   Else (feature 6 not in {0.0})\n",
      "    If (feature 4 in {0.0,1.0})\n",
      "     If (feature 9 in {0.0,1.0,2.0})\n",
      "      Predict: 2.0\n",
      "     Else (feature 9 not in {0.0,1.0,2.0})\n",
      "      Predict: 3.0\n",
      "    Else (feature 4 not in {0.0,1.0})\n",
      "     If (feature 10 in {0.0})\n",
      "      Predict: 3.0\n",
      "     Else (feature 10 not in {0.0})\n",
      "      If (feature 0 in {0.0,1.0})\n",
      "       Predict: 2.0\n",
      "      Else (feature 0 not in {0.0,1.0})\n",
      "       Predict: 1.0\n",
      "  Else (feature 12 not in {0.0,1.0,2.0})\n",
      "   Predict: 1.0\n",
      "\n",
      "Accuracy: 0.9148936170212766\n"
     ]
    }
   ],
   "source": [
    "from pyspark.ml.feature import QuantileDiscretizer\n",
    "\n",
    "def make_pipeline_2(number_of_buckets, train, test):\n",
    "    new_cols = [\"new_\" + str(c) for c in train.columns[1:]]\n",
    "    quantile_discretizer = QuantileDiscretizer(inputCols=train.columns[1:], outputCols=new_cols, numBuckets=number_of_buckets)\n",
    "    vector_assembler = VectorAssembler(inputCols=new_cols, outputCol=\"features\")\n",
    "    decision_tree_cls = DecisionTreeClassifier(labelCol=\"Wine\", featuresCol=\"features\")\n",
    "    pipeline = Pipeline(stages=[quantile_discretizer, vector_assembler, decision_tree_cls])\n",
    "    evaluation = MulticlassClassificationEvaluator(labelCol=\"Wine\", predictionCol=\"prediction\", metricName=\"accuracy\") \n",
    "    model = pipeline.fit(train)\n",
    "    predictions = model.transform(test)\n",
    "    accuracy = evaluation.evaluate(predictions)\n",
    "    return model, accuracy\n",
    "\n",
    "for buckets in [2, 3, 4]:\n",
    "    model, accuracy = make_pipeline_2(buckets, wine_train, wine_test)\n",
    "    tree_model = model.stages[2]\n",
    "    print(tree_model.toDebugString)\n",
    "    print(\"Accuracy:\", accuracy)"
   ]
  },
  {
   "cell_type": "markdown",
   "metadata": {
    "id": "8oN4DH5P36DF"
   },
   "source": [
    "Best accuracy equals 0.9787234042553192 for 3 buckets. There are small differences for each numer of buckets."
   ]
  },
  {
   "cell_type": "markdown",
   "metadata": {
    "id": "xZ458SgIDTTk"
   },
   "source": [
    "## 4. Text classification (2p.)"
   ]
  },
  {
   "cell_type": "markdown",
   "metadata": {
    "id": "mwzu_i7BDTTl"
   },
   "source": [
    "### Exercise 4\n",
    "**TODO:** \n",
    "Build a pipeline consisting of Tokenizer, HashingTF, IDF and StringIndexer and LogisticRegression, fit it to training data: \n",
    "http://help.sentiment140.com/for-students/\n",
    "\n",
    "What is the accuracy of this classifier?"
   ]
  },
  {
   "cell_type": "code",
   "execution_count": null,
   "metadata": {
    "id": "S9QbF10DjwU5"
   },
   "outputs": [],
   "source": []
  }
 ],
 "metadata": {
  "colab": {
   "collapsed_sections": [],
   "name": "ADZD_6_MLlib.ipynb",
   "provenance": []
  },
  "kernelspec": {
   "display_name": "Python 3",
   "language": "python",
   "name": "python3"
  },
  "language_info": {
   "codemirror_mode": {
    "name": "ipython",
    "version": 3
   },
   "file_extension": ".py",
   "mimetype": "text/x-python",
   "name": "python",
   "nbconvert_exporter": "python",
   "pygments_lexer": "ipython3",
   "version": "3.8.8"
  }
 },
 "nbformat": 4,
 "nbformat_minor": 1
}
